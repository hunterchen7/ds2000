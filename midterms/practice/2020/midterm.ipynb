{
 "cells": [
  {
   "cell_type": "markdown",
   "metadata": {},
   "source": [
    "# Midterm IS2002B. Student ID: xxxxxx\n",
    "## General comments \n",
    "This Midterm integrates knowledge and skills acquired in the first half of the semester, especially in the last 6 Assignments. You are allowed to use any document and source on your computer and look up documents on the internet. You or not allowed to share documents, or communicate in any other way with people inside or outside the class room during the midterm. To finish the midterm in the alloted 1hr and 50 min, you will have to work fast and efficiently. The midterm needs to be submitted by the deadline 12:20 on the OWL site under Assessments/midterm. Good luck!\n",
    "\n",
    "## Preliminaries\n",
    "Sets up the environment by importing pandas, numpy, and matplotlib. Because we are using plots make sure that you configure your notebook such that plots are shown inline (see Assignment 2). "
   ]
  },
  {
   "cell_type": "code",
   "execution_count": 1,
   "metadata": {},
   "outputs": [],
   "source": [
    "import matplotlib\n",
    "matplotlib.use('TkAgg')\n",
    "import matplotlib.pyplot as plt \n",
    "%matplotlib inline\n",
    "import scipy.stats as ss\n",
    "import pandas as pd \n",
    "import numpy as np\n",
    "import seaborn as sb"
   ]
  },
  {
   "cell_type": "markdown",
   "metadata": {},
   "source": [
    "## Data set \n",
    "The data set for the midterm is a *random* sample of 3000 professional male soccer players employed by professional European club in 2019. We are interested in what factors may influence the overall ability of each player - i.e. their effective performance on the field. \n",
    "\n",
    "The data frame contains the data fields\n",
    "- age:   \t\t    Age of the play in years.\n",
    "- overall:\t\t\tOverall ability of the player (composite score 1-100). Higher numbers indicate better players.\n",
    "- weak_foot: \t    Player has weak/strong foot: 1: nearly symetric - 5: strong preference for one foot  \n",
    "- preferred_foot:  \tPlayer prefers Left/Right foot   \n",
    "- skill_moves: \t    Results of the acrobatic skills assessment 1: worst - 5: best  \n",
    "\n",
    "You can ignore all other variables"
   ]
  },
  {
   "cell_type": "markdown",
   "metadata": {},
   "source": [
    "## Task 1: Preferred foot and foot asymmetry (37pt)\n",
    "In this task you will explore the connection between the preferred foot (left / right) and the degree to which the player prefers this foot over the weaker one (weak_foot). \n",
    "\n",
    "### Question 1.1 (7pt)\n",
    "Generate and display a table that shows the __proportion__ of players for each weak-foot rating (1-5) seperately for players that prefer the left and right foot.  Make a stacked bar plot that shows the proportions of weak-foot ratings (1-5) separately for left and rght footed players. Don't forget the figure caption. Written answer: Based on these relative proportion, do you think that left- or right footed players are more asymmetric, i.e. have a stronger preference for their dominant foot over the weaker one?  "
   ]
  },
  {
   "cell_type": "code",
   "execution_count": null,
   "metadata": {},
   "outputs": [],
   "source": []
  },
  {
   "cell_type": "markdown",
   "metadata": {},
   "source": [
    "Written answer:"
   ]
  },
  {
   "cell_type": "markdown",
   "metadata": {},
   "source": [
    "### Question 1.2 (7pt)\n",
    "Make a table that shows the __absolute__ counts of left- and right- footed players that have a specific level of having a weak foot. From these numbers, calculate and report the probability that \n",
    "* a player is left-footed: p(preferred_foot = Left)\n",
    "* a player is a nearly symmetric: p(weak_foot = 1)\n",
    "* a player has a foot preference of 4, given he is right-footed: p(weak_foot = 4 | preferred_foot = Right)\n",
    "* a player is left-footed, given that he is extremely asymmetric: p(preferred_foot = Left | weak_foot=5)"
   ]
  },
  {
   "cell_type": "code",
   "execution_count": null,
   "metadata": {},
   "outputs": [],
   "source": []
  },
  {
   "cell_type": "markdown",
   "metadata": {},
   "source": [
    "Written answer:"
   ]
  },
  {
   "cell_type": "markdown",
   "metadata": {},
   "source": [
    "### Question 1.3: (5pt)\n",
    "What measurement scale does the variable *weak_foot* have? Based on your answer, would you rather summarize the data by reporting mean and standard deviation, or by reporting the counts in the 5 answer categories?   "
   ]
  },
  {
   "cell_type": "markdown",
   "metadata": {},
   "source": []
  },
  {
   "cell_type": "markdown",
   "metadata": {},
   "source": [
    "### Question 1.4 (5pt)\n",
    "We want to test whether left- and right footed players show **any** difference in their distribution of weak_foot ratings across the 5 categories. \n",
    "Please formulate the Alternative and Null hypothesis. What test statistics would be appropriate to use?   "
   ]
  },
  {
   "cell_type": "markdown",
   "metadata": {},
   "source": []
  },
  {
   "cell_type": "markdown",
   "metadata": {},
   "source": [
    "### Question 1.5 (13pt)\n",
    "Perform a randomization test to test whether you can reject the Null-hypothesis formulated in Question 1.4. Your code should produce a figure that shows the distribution of chosen test statistics under the Null hypothesis, as well as the empirical value as a vertical line.  Remember to provide axis lables and a caption. Written answer: Report the value of the statistics and the associated p-value, using at least 1000 iterations. What do you conclude regarding the hypotheses formulated above? "
   ]
  },
  {
   "cell_type": "code",
   "execution_count": null,
   "metadata": {},
   "outputs": [],
   "source": []
  },
  {
   "cell_type": "code",
   "execution_count": null,
   "metadata": {},
   "outputs": [],
   "source": []
  },
  {
   "cell_type": "markdown",
   "metadata": {},
   "source": []
  },
  {
   "cell_type": "markdown",
   "metadata": {},
   "source": []
  },
  {
   "cell_type": "markdown",
   "metadata": {},
   "source": [
    "## TASK 2: Age and player ability (28pt)\n",
    "In this part of the task, we will look at the relationship between the age of the player and the overall ability on the field (overall)\n",
    "### Question 2.1 (8pt)\n",
    "Generate a histogram of the overall ability (overall), split by whether the player is *under 21* years (U21) or whether the player is 21 or older. Superimpose the two histograms. Remember a caption. \n",
    "\n",
    "How would you describe the distribution of the overall scores in each age group?\n",
    "\n",
    "Just based on the visual display (without needing to caluclate statistics or doind a test) are there differences in the \n",
    "* Mean of the distributions \n",
    "* Width (deviation) of the distributions \n",
    "* Shape of the distributions \n",
    "\n",
    "If you answer \"yes\", describe in a few words what the differences are. \n",
    "    "
   ]
  },
  {
   "cell_type": "code",
   "execution_count": null,
   "metadata": {},
   "outputs": [],
   "source": []
  },
  {
   "cell_type": "markdown",
   "metadata": {},
   "source": []
  },
  {
   "cell_type": "markdown",
   "metadata": {},
   "source": [
    "### Question 2.2 (13pt)\n",
    "Determine the *mean* overall ability of the U21 players only. First, report the number of players under 21 years of age. Using a bootstrap, determine and report the 90% confidence interval for the mean of the U21 players. Written answer: What does this interval mean? "
   ]
  },
  {
   "cell_type": "code",
   "execution_count": null,
   "metadata": {},
   "outputs": [],
   "source": []
  },
  {
   "cell_type": "markdown",
   "metadata": {},
   "source": [
    "Written answer: "
   ]
  },
  {
   "cell_type": "markdown",
   "metadata": {},
   "source": [
    "### Question 2.3 (7pt)\n",
    "Repeat the procedure from Question 2.2 for all players below 19 years, again reporting the number of players in this category, their mean ability amd the 90% confidence interval for the mean. (2pts)\n",
    "\n",
    "Written answer: Which interval is wider? Why do you think this is? (5pts)"
   ]
  },
  {
   "cell_type": "code",
   "execution_count": null,
   "metadata": {},
   "outputs": [],
   "source": []
  },
  {
   "cell_type": "markdown",
   "metadata": {},
   "source": [
    "Written answer: "
   ]
  },
  {
   "cell_type": "markdown",
   "metadata": {},
   "source": [
    "## Task 3: Acrobatic tricks and player overall ability (35pt)\n",
    "The variable skill_moves contains the results of a assessment in which players need to perform acrobatic tricks with the ball (balancing a football on the head, etc...). A score of 1 indicates no special skill, 5 indicates acrobat-like performance. \n",
    "### Question 3.1 (8pt)\n",
    "Make a violin plot of overall (y-variable), depending on skill_moves (x-variable). Don't forget the figure caption. \n",
    "\n",
    "Written answer: Does the result from the skill_moves assessment relate to the players performance on the field (i.e., overall)?  If yes, how? "
   ]
  },
  {
   "cell_type": "code",
   "execution_count": null,
   "metadata": {},
   "outputs": [],
   "source": []
  },
  {
   "cell_type": "markdown",
   "metadata": {},
   "source": [
    "Written answer: "
   ]
  },
  {
   "cell_type": "markdown",
   "metadata": {},
   "source": [
    "### Question 3.2: Hypotheses (6pt)\n",
    "Calculate and report the difference in the mean overall ability for players that scored 4 and 5 on the skills test. Also report the number of players that scored 4 and the number of players that scored 5. "
   ]
  },
  {
   "cell_type": "code",
   "execution_count": null,
   "metadata": {},
   "outputs": [],
   "source": []
  },
  {
   "cell_type": "markdown",
   "metadata": {},
   "source": [
    "### Question 3.3: Randomization test (13pt)\n",
    "Test the hypothesis that players that get a 5 on the skills assessment have a higher overall ability than players who get a 4 on the skills test. Formulate the corresponding Null-hypothesis. Then perform a randomisation test to test this null-hypothesis. When doing so, restrict the analysis and the randomisation test to data that comes from people that scored either 4 or 5. Conduct a one- or two-sided test (as appropriate for the hypothesis).  Report the p-value. What can you conclude? "
   ]
  },
  {
   "cell_type": "code",
   "execution_count": null,
   "metadata": {},
   "outputs": [],
   "source": []
  },
  {
   "cell_type": "markdown",
   "metadata": {},
   "source": []
  },
  {
   "cell_type": "markdown",
   "metadata": {},
   "source": [
    "### Question 3.4: Interpretation (8pt)"
   ]
  },
  {
   "cell_type": "markdown",
   "metadata": {},
   "source": [
    "A professional coaching agency conducts a statistical test that shows that players with a skill_moves assessment of 4 or 5 have significantly better overall ability than players with skill_moves scores of 1-3. They are now using this result to sell acrobatic training camps to football clubs, claiming that \"better acrobatic skills with the ball make players better on the field\". \n",
    "\n",
    "What is the main problem with this claim? What evidence would the agency need to show to address this possible concern? Answer this question in 2-3 sentences.  "
   ]
  },
  {
   "cell_type": "markdown",
   "metadata": {},
   "source": [
    "Written answer: "
   ]
  }
 ],
 "metadata": {
  "kernelspec": {
   "display_name": "Python 3",
   "language": "python",
   "name": "python3"
  },
  "language_info": {
   "codemirror_mode": {
    "name": "ipython",
    "version": 3
   },
   "file_extension": ".py",
   "mimetype": "text/x-python",
   "name": "python",
   "nbconvert_exporter": "python",
   "pygments_lexer": "ipython3",
   "version": "3.7.4"
  }
 },
 "nbformat": 4,
 "nbformat_minor": 1
}
