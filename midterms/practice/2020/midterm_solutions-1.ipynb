{
 "cells": [
  {
   "cell_type": "markdown",
   "metadata": {},
   "source": [
    "# Midterm IS2002B. Student ID: xxxxxx\n",
    "## General comments \n",
    "This Midterm integrates knowledge and skills acquired in the first half of the semester, especially in the last 6 Assignments. You are allowed to use any document and source on your computer and look up documents on the internet. You or not allowed to share documents, or communicate in any other way with people inside or outside the class room during the midterm. To finish the midterm in the alloted 1hr and 50 min, you will have to work fast and efficiently. Good luck!\n",
    "## Preliminaries\n",
    "Sets up the environment by importing pandas, numpy, and matplotlib. Because we are using plots make sure that you configure your notebook such that plots are shown inline (see Assignment 2). "
   ]
  },
  {
   "cell_type": "code",
   "execution_count": 1,
   "metadata": {},
   "outputs": [],
   "source": [
    "import matplotlib\n",
    "matplotlib.use('TkAgg')\n",
    "import matplotlib.pyplot as plt \n",
    "%matplotlib inline\n",
    "import scipy.stats as ss\n",
    "import pandas as pd \n",
    "import numpy as np\n",
    "import seaborn as sb"
   ]
  },
  {
   "cell_type": "markdown",
   "metadata": {},
   "source": [
    "## Data set \n",
    "The data set for the midterm is a *random* sample of 3000 professional male soccer players employed by professional European club in 2019. We are interested in what factors may influence the overall ability of each player - i.e. their effective performance on the field. \n",
    "\n",
    "The data frame contains the data fields\n",
    "- age:   \t\t    Age of the play in years.\n",
    "- overall:\t\t\tOverall ability of the player (composite score 1-100). Higher numbers indicate better players.\n",
    "- weak_foot: \t    Player has weak/strong foot: 1: nearly symetric - 5: strong preference for one foot  \n",
    "- preferred_foot:  \tPlayer prefers Left/Right foot   \n",
    "- skill_moves: \t    Results of the acrobatic skills assessment 1: worst - 5: best  \n",
    "\n",
    "You can ignore all other variables"
   ]
  },
  {
   "cell_type": "markdown",
   "metadata": {},
   "source": [
    "## Task 1: Preferred foot and foot asymmetry (37pt)\n",
    "In this task you will explore the connection between the preferred foot (left / right) and the degree to which the player prefers this foot over the weaker one (weak_foot). \n",
    "\n",
    "### Question 1.1 (7pt)\n",
    "Generate and display a table that shows the __proportion__ of players for each weak-foot rating (1-5) seperately for players that prefer the left and right foot.  Make a stacked bar plot that shows the proportions of weak-foot ratings (1-5) separately for left and rght footed players. Don't forget the figure caption. Written answer: Based on these relative proportion, do you think that left- or right footed players are more asymmetric, i.e. have a stronger preference for their dominant foot over the weaker one?  "
   ]
  },
  {
   "cell_type": "code",
   "execution_count": 2,
   "metadata": {},
   "outputs": [
    {
     "data": {
      "text/plain": [
       "Index(['age', 'height_cm', 'weight_kg', 'overall', 'skill_moves', 'weak_foot',\n",
       "       'preferred_foot', 'crossing', 'finishing'],\n",
       "      dtype='object')"
      ]
     },
     "execution_count": 2,
     "metadata": {},
     "output_type": "execute_result"
    }
   ],
   "source": [
    "D = pd.read_csv('footballer.csv')\n",
    "D.columns"
   ]
  },
  {
   "cell_type": "code",
   "execution_count": 3,
   "metadata": {},
   "outputs": [
    {
     "data": {
      "text/html": [
       "<div>\n",
       "<style scoped>\n",
       "    .dataframe tbody tr th:only-of-type {\n",
       "        vertical-align: middle;\n",
       "    }\n",
       "\n",
       "    .dataframe tbody tr th {\n",
       "        vertical-align: top;\n",
       "    }\n",
       "\n",
       "    .dataframe thead th {\n",
       "        text-align: right;\n",
       "    }\n",
       "</style>\n",
       "<table border=\"1\" class=\"dataframe\">\n",
       "  <thead>\n",
       "    <tr style=\"text-align: right;\">\n",
       "      <th>weak_foot</th>\n",
       "      <th>1</th>\n",
       "      <th>2</th>\n",
       "      <th>3</th>\n",
       "      <th>4</th>\n",
       "      <th>5</th>\n",
       "    </tr>\n",
       "    <tr>\n",
       "      <th>preferred_foot</th>\n",
       "      <th></th>\n",
       "      <th></th>\n",
       "      <th></th>\n",
       "      <th></th>\n",
       "      <th></th>\n",
       "    </tr>\n",
       "  </thead>\n",
       "  <tbody>\n",
       "    <tr>\n",
       "      <th>Left</th>\n",
       "      <td>0.004043</td>\n",
       "      <td>0.246631</td>\n",
       "      <td>0.645553</td>\n",
       "      <td>0.097035</td>\n",
       "      <td>0.006739</td>\n",
       "    </tr>\n",
       "    <tr>\n",
       "      <th>Right</th>\n",
       "      <td>0.007086</td>\n",
       "      <td>0.192648</td>\n",
       "      <td>0.627989</td>\n",
       "      <td>0.158105</td>\n",
       "      <td>0.014172</td>\n",
       "    </tr>\n",
       "  </tbody>\n",
       "</table>\n",
       "</div>"
      ],
      "text/plain": [
       "weak_foot              1         2         3         4         5\n",
       "preferred_foot                                                  \n",
       "Left            0.004043  0.246631  0.645553  0.097035  0.006739\n",
       "Right           0.007086  0.192648  0.627989  0.158105  0.014172"
      ]
     },
     "execution_count": 3,
     "metadata": {},
     "output_type": "execute_result"
    }
   ],
   "source": [
    "# Crosstab done correctly 2  (0 if done the other way around)\n",
    "T = pd.crosstab(D[\"preferred_foot\"],D[\"weak_foot\"],normalize='index')\n",
    "T"
   ]
  },
  {
   "cell_type": "code",
   "execution_count": 4,
   "metadata": {},
   "outputs": [
    {
     "data": {
      "text/plain": [
       "Text(0, 0.5, 'proportion')"
      ]
     },
     "execution_count": 4,
     "metadata": {},
     "output_type": "execute_result"
    },
    {
     "data": {
      "image/png": "[encoded data removed]",
      "text/plain": [
       "<Figure size 432x288 with 1 Axes>"
      ]
     },
     "metadata": {
      "needs_background": "light"
     },
     "output_type": "display_data"
    }
   ],
   "source": [
    "# 1 point for figure 1 point for correct caption\n",
    "T.plot(kind='bar',stacked=True)\n",
    "plt.ylabel('proportion')"
   ]
  },
  {
   "cell_type": "markdown",
   "metadata": {},
   "source": [
    "*Figure 1*. Stacked bar plot of rating proportions (1: weak preference, 5: strong preference) split by foot preference.  "
   ]
  },
  {
   "cell_type": "markdown",
   "metadata": {},
   "source": [
    ">The proportion of left-footed players that have a weak preference seems to be higher. Therefore, right-footed players tend to be more asymmetric. (3pts)"
   ]
  },
  {
   "cell_type": "markdown",
   "metadata": {},
   "source": [
    "### Question 1.2 (7pt)\n",
    "Make a table that shows the __absolute__ counts of left- and right- footed players that have a specific level of having a weak foot. From these numbers, calculate and report the probability that \n",
    "* a player is left-footed: p(preferred_foot = Left)\n",
    "* a player is a nearly symmetric: p(weak_foot = 1)\n",
    "* a player has a foot preference of 4, given he is right-footed: p(weak_foot = 4 | preferred_foot = Right)\n",
    "* a player is left-footed, given that he is extremely asymmetric: p(preferred_foot = Left | weak_foot=5)"
   ]
  },
  {
   "cell_type": "code",
   "execution_count": 4,
   "metadata": {},
   "outputs": [
    {
     "data": {
      "text/html": [
       "<div>\n",
       "<style scoped>\n",
       "    .dataframe tbody tr th:only-of-type {\n",
       "        vertical-align: middle;\n",
       "    }\n",
       "\n",
       "    .dataframe tbody tr th {\n",
       "        vertical-align: top;\n",
       "    }\n",
       "\n",
       "    .dataframe thead th {\n",
       "        text-align: right;\n",
       "    }\n",
       "</style>\n",
       "<table border=\"1\" class=\"dataframe\">\n",
       "  <thead>\n",
       "    <tr style=\"text-align: right;\">\n",
       "      <th>weak_foot</th>\n",
       "      <th>1</th>\n",
       "      <th>2</th>\n",
       "      <th>3</th>\n",
       "      <th>4</th>\n",
       "      <th>5</th>\n",
       "      <th>All</th>\n",
       "    </tr>\n",
       "    <tr>\n",
       "      <th>preferred_foot</th>\n",
       "      <th></th>\n",
       "      <th></th>\n",
       "      <th></th>\n",
       "      <th></th>\n",
       "      <th></th>\n",
       "      <th></th>\n",
       "    </tr>\n",
       "  </thead>\n",
       "  <tbody>\n",
       "    <tr>\n",
       "      <th>Left</th>\n",
       "      <td>3</td>\n",
       "      <td>183</td>\n",
       "      <td>479</td>\n",
       "      <td>72</td>\n",
       "      <td>5</td>\n",
       "      <td>742</td>\n",
       "    </tr>\n",
       "    <tr>\n",
       "      <th>Right</th>\n",
       "      <td>16</td>\n",
       "      <td>435</td>\n",
       "      <td>1418</td>\n",
       "      <td>357</td>\n",
       "      <td>32</td>\n",
       "      <td>2258</td>\n",
       "    </tr>\n",
       "    <tr>\n",
       "      <th>All</th>\n",
       "      <td>19</td>\n",
       "      <td>618</td>\n",
       "      <td>1897</td>\n",
       "      <td>429</td>\n",
       "      <td>37</td>\n",
       "      <td>3000</td>\n",
       "    </tr>\n",
       "  </tbody>\n",
       "</table>\n",
       "</div>"
      ],
      "text/plain": [
       "weak_foot        1    2     3    4   5   All\n",
       "preferred_foot                              \n",
       "Left             3  183   479   72   5   742\n",
       "Right           16  435  1418  357  32  2258\n",
       "All             19  618  1897  429  37  3000"
      ]
     },
     "execution_count": 4,
     "metadata": {},
     "output_type": "execute_result"
    }
   ],
   "source": [
    "# 3 for table 1 per probability\n",
    "T=pd.crosstab(D.preferred_foot,D.weak_foot,margins=True)\n",
    "T "
   ]
  },
  {
   "cell_type": "code",
   "execution_count": 18,
   "metadata": {},
   "outputs": [
    {
     "name": "stdout",
     "output_type": "stream",
     "text": [
      "p(preferred_foot = Left) 0.247\n",
      "p(weak = 1) 0.006\n",
      "p(weak_foot = 4 | preferred_foot = Right) 0.158\n",
      "p(preferred_foot = Left | weak_foot=5) 0.135\n"
     ]
    }
   ],
   "source": [
    "print(f\"p(preferred_foot = Left) {T.loc['Left','All']/T.loc['All','All']:0.3f}\")\n",
    "print(f\"p(weak = 1) {T.loc['All',1]/T.loc['All','All']:0.3f}\")\n",
    "print(f\"p(weak_foot = 4 | preferred_foot = Right) {T.loc['Right',4]/T.loc['Right','All']:0.3f}\")\n",
    "print(f\"p(preferred_foot = Left | weak_foot=5) {T.loc['Left',5]/T.loc['All',5]:0.3f}\")\n"
   ]
  },
  {
   "cell_type": "markdown",
   "metadata": {},
   "source": [
    "### Question 1.3: (5pt)\n",
    "What measurement scale does the variable *weak_foot* have? Based on your answer, would you rather summarize the data by reporting mean and standard deviation, or by reporting the counts in the 5 answer categories?   "
   ]
  },
  {
   "cell_type": "markdown",
   "metadata": {},
   "source": [
    ">Measurement scale can be ordinal or *maybe* interval (3pt). \n",
    "> Other options are wrong. \n",
    "\n",
    ">* Ordinal -> report counts (2 pt)\n",
    ">* Interval -> mean and SD  (2 pt)"
   ]
  },
  {
   "cell_type": "markdown",
   "metadata": {},
   "source": [
    "### Question 1.4 (5pt)\n",
    "We want to test whether left- and right footed players show **any** difference in their distribution of weak_foot ratings across the 5 categories. \n",
    "Please formulate the Alternative and Null hypothesis. What test statistics would be appropriate to use?   "
   ]
  },
  {
   "cell_type": "markdown",
   "metadata": {},
   "source": [
    ">Alternative Hypothesis: The answer on the weak_foot rating scale differs between left- and right-footed players (1pts)\n",
    "\n",
    ">Null Hypothesis: The answer on the weak_foot rating scale is independent of the preferred foot. (2pts)\n",
    "\n",
    ">The Null-hypothesis can be tested using the Chi-square test. (2pts)"
   ]
  },
  {
   "cell_type": "markdown",
   "metadata": {},
   "source": [
    "### Question 1.5 (13pt)\n",
    "Perform a randomization test to test whether you can reject the Null-hypothesis formulated in Question 1.4. Your code should produce a figure that shows the distribution of chosen test statistics under the Null hypothesis, as well as the empirical value as a vertical line.  Remember to provide axis lables and a caption. Written answer: Report the value of the statistics and the associated p-value, using at least 1000 iterations. What do you conclude regarding the hypotheses formulated above? "
   ]
  },
  {
   "cell_type": "code",
   "execution_count": 6,
   "metadata": {},
   "outputs": [],
   "source": [
    "def calcX2(df):\n",
    "    table = pd.crosstab(df['weak_foot'], df['preferred_foot'], margins = True)\n",
    "    \n",
    "    ## calculate the expected values under the null hypothesis that the director gender is independent of the movie genre\n",
    "    (r, c) = table.shape\n",
    "    expected = np.zeros((r-1, c-1))\n",
    "    for i in range(r-1):\n",
    "        for j in range(c-1):\n",
    "            expected[i, j] =  (table.iloc[i].iloc[-1] * table.iloc[-1].iloc[j])/table['All']['All']\n",
    "            \n",
    "    ## converting the contingency table to a numpy array to be used in element-wise calculation of the X2\n",
    "    observed = np.array(pd.crosstab(df['weak_foot'], df['preferred_foot']))\n",
    "    \n",
    "    X2 = sum(sum(((observed - expected)**2)/expected))\n",
    "    \n",
    "    return X2\n",
    "\n",
    "\n",
    "def performRandomization(df,fcn,shuffle,numIterations=500,sides=1, nbins = 10):    \n",
    "    listOfTS =  np.array(range(numIterations),dtype = 'float64')\n",
    "    for i in range(numIterations):\n",
    "        #1. Randomly shuffle the data \n",
    "        S=df.copy()                    # Make copy of the data frame\n",
    "        x = np.array(range(len(df.index))) # Make copy of the data frame\n",
    "        np.random.shuffle(x)          # randomly shuffle x - note that this changes x itself! \n",
    "        y = S[shuffle].iloc[x]   # copy the newly reorded values into a new Series  \n",
    "        y = y.reset_index(drop=True)   #reoder the indices \n",
    "        S[shuffle]=y           # Copy back into the data frame\n",
    "        \n",
    "        #2. Calculate test statistics \n",
    "        listOfTS[i] = fcn(S)\n",
    "\n",
    "    # 3. Caluclate the real test statistic \n",
    "    realTS = fcn(df)\n",
    "\n",
    "    # 4. Plot a histogram of the \n",
    "    plt.hist(listOfTS,bins= nbins)\n",
    "    plt.axvline(x=realTS, color='k')\n",
    "    \n",
    "    # 5. determine p-value (one sided)\n",
    "    if sides==1: \n",
    "        p=sum(listOfTS>=realTS)/len(listOfTS)\n",
    "    if sides==2:\n",
    "        plt.axvline(x=-realTS, color='r')\n",
    "        p=sum(np.absolute(listOfTS)>=realTS)/len(listOfTS)\n",
    "    print(' P-value of the randomisation test is p= ',p)\n",
    "    return p"
   ]
  },
  {
   "cell_type": "code",
   "execution_count": 7,
   "metadata": {},
   "outputs": [
    {
     "name": "stdout",
     "output_type": "stream",
     "text": [
      " P-value of the randomisation test is p=  0.0\n"
     ]
    },
    {
     "data": {
      "image/png": "[encoded data removed]",
      "text/plain": [
       "<Figure size 432x288 with 1 Axes>"
      ]
     },
     "metadata": {
      "needs_background": "light"
     },
     "output_type": "display_data"
    }
   ],
   "source": [
    "P = performRandomization(D,calcX2,'preferred_foot',numIterations=500,sides=1, nbins = 10)"
   ]
  },
  {
   "cell_type": "markdown",
   "metadata": {},
   "source": [
    "*Figure 2*. Histogram showing the distribution of test statistic under the null hypothesis. p-values corresponding to a two-sided test are shown as vertical lines."
   ]
  },
  {
   "cell_type": "markdown",
   "metadata": {},
   "source": [
    "> Based on the permuation test, ...."
   ]
  },
  {
   "cell_type": "markdown",
   "metadata": {},
   "source": [
    "3 pts for test stats function\n",
    "3 pts for randomization \n",
    "3 pts for figure +1 pt for caption \n",
    "3 for p-value and decision "
   ]
  },
  {
   "cell_type": "markdown",
   "metadata": {},
   "source": [
    "## TASK 2: Age and player ability (28pt)\n",
    "In this part of the task, we will look at the relationship between the age of the player and the overall ability on the field (overall)\n",
    "### Question 2.1 (8pt)\n",
    "Generate a histogram of the overall ability (overall), split by whether the player is *under 21* years (U21) or whether the player is 21 or older. Superimpose the two histograms. \n",
    "\n",
    "How would you describe the distribution of the overall scores in each age group?\n",
    "\n",
    "Just based on the visual display (without needing to caluclate statistics or doind a test) are there differences in the \n",
    "* Mean of the distributions \n",
    "* Width (deviation) of the distributions \n",
    "* Shape of the distributions \n",
    "\n",
    "If you answer \"yes\", describe in a few words what the differences are. \n",
    "    "
   ]
  },
  {
   "cell_type": "code",
   "execution_count": 33,
   "metadata": {},
   "outputs": [
    {
     "data": {
      "text/plain": [
       "<matplotlib.legend.Legend at 0x7fa5d17ae650>"
      ]
     },
     "execution_count": 33,
     "metadata": {},
     "output_type": "execute_result"
    },
    {
     "data": {
      "image/png": "[encoded data removed]",
      "text/plain": [
       "<Figure size 432x288 with 1 Axes>"
      ]
     },
     "metadata": {
      "needs_background": "light"
     },
     "output_type": "display_data"
    }
   ],
   "source": [
    "sb.distplot(D.overall[D.age<21], bins = 20, color = 'b')\n",
    "sb.distplot(D.overall[D.age>=21], bins = 20, color = 'r')\n",
    "plt.legend(('U21', '>21'))\n"
   ]
  },
  {
   "cell_type": "markdown",
   "metadata": {},
   "source": [
    "Selection correct : 2pts \n",
    "Figure 1pt. \n",
    "Figure 3. Distributions of overal score for two age groups (under 21 and older 21). (1pt)\n",
    "\n",
    "Distribution is symmetric, unimodal, and fairly normal \n",
    "Mean is lower for U21 (2pt)\n",
    "Variability is lower for U21 (1pt)\n",
    "Shape is lower for U21 (1pt)\n"
   ]
  },
  {
   "cell_type": "markdown",
   "metadata": {},
   "source": [
    "### Question 2.2 (13pt)\n",
    "Determine the *mean* overall ability of the U21 players only. First, report the number of players under 21 years of age. Using a bootstrap, determine 90% confidence interval for the mean of the U21 players. What does this interval mean? "
   ]
  },
  {
   "cell_type": "code",
   "execution_count": 9,
   "metadata": {},
   "outputs": [],
   "source": [
    "def bootstrap(data, fcn, numIter = 1000):\n",
    "    it = 0 ## setting the iteration variable to zero. It will be increased each time a loop is executed\n",
    "    stats = np.array(range(numIter), dtype = 'float64') ## initializing the stats array (the function output)\n",
    "    N = data.shape[0]\n",
    "    while it < numIter:\n",
    "        sample = np.random.choice(data, size = N, replace = True) ## Generates a random sample from a given 1-D array \n",
    "        stats[it] = fcn(sample)  \n",
    "        it = it + 1\n",
    "    return stats\n",
    "\n",
    "def confidenceInt(data, prec):\n",
    "    lp = (100 - prec)/2\n",
    "    Int = [np.percentile(data, lp), np.percentile(data, 100-(lp/2))]\n",
    "    return Int\n",
    "\n",
    "def doInterval(data): \n",
    "    stats = bootstrap(data,np.mean)\n",
    "    A=confidenceInt(stats,90)    \n",
    "    print('the mean of distribution is %.3f\\n' % np.mean(data))\n",
    "    print('the 90 percent confidence interval is %.3f - %.3f' % (A[0],A[1]))\n",
    "    print('Number of observations %.3f' % data.shape[0])"
   ]
  },
  {
   "cell_type": "code",
   "execution_count": 10,
   "metadata": {},
   "outputs": [
    {
     "name": "stdout",
     "output_type": "stream",
     "text": [
      "the mean of distribution is 59.334\n",
      "\n",
      "the 90 percent confidence interval is 58.912 - 59.829\n",
      "Number of observations 560.000\n"
     ]
    }
   ],
   "source": [
    "doInterval(D.overall[D.age<21])"
   ]
  },
  {
   "cell_type": "markdown",
   "metadata": {},
   "source": [
    ">Selection (2>Bootstrap (4pts)\n",
    ">Interval 5pts \n",
    "> With 90 probability, the true mean of the population that these players are samples from falls into this confidence interval! (4pts)"
   ]
  },
  {
   "cell_type": "markdown",
   "metadata": {},
   "source": [
    "### Question 2.3 (7pt)\n",
    "Repeat the procedure from Question 2.2 for all players below 19 years, again reporting the number of players in this category, their mean ability amd the 90% confidence interval for the mean. (2pts)\n",
    "\n",
    "Written answer: Which interval is wider? Why do you think this is? (5pts)"
   ]
  },
  {
   "cell_type": "code",
   "execution_count": 14,
   "metadata": {},
   "outputs": [
    {
     "name": "stdout",
     "output_type": "stream",
     "text": [
      "the mean of distribution is 57.288\n",
      "\n",
      "the 90 percent confidence interval is 56.531 - 58.225\n",
      "Number of observations 160.000\n",
      "5.850627637271065\n",
      "5.955273077153509\n"
     ]
    }
   ],
   "source": [
    "doInterval(D.overall[D.age<19])\n",
    "print(np.std(D.overall[D.age<19]))\n",
    "print(np.std(D.overall[D.age<21]))"
   ]
  },
  {
   "cell_type": "markdown",
   "metadata": {},
   "source": [
    "There are fewer player under 19 as compared to under 21. So, although the variability of overall is nearly matched in both groups, the lower number of observations makes the mean estimate more variable "
   ]
  },
  {
   "cell_type": "markdown",
   "metadata": {},
   "source": [
    "## Task 3: Acrobatic tricks and player overall ability (35pt)\n",
    "The variable skill_moves contains the results of a assessment in which players need to perform acrobatic tricks with the ball (balancing a football on the head, etc...). A score of 1 indicates no special skill, 5 indicates acrobat-like performance. \n",
    "### Question 3.1 (8pt)\n",
    "Make a violin plot of overall (y-variable), depending on skill_moves (x-variable). (3pts) Don't forget the figure caption. (1pt)\n",
    "\n",
    "Written answer: Does the result from the skill_moves assessment relate to the players performance on the field (i.e., overall)?  If yes, how? (4pts) "
   ]
  },
  {
   "cell_type": "code",
   "execution_count": 10,
   "metadata": {},
   "outputs": [
    {
     "data": {
      "text/plain": [
       "<matplotlib.axes._subplots.AxesSubplot at 0x7fa5d1efab90>"
      ]
     },
     "execution_count": 10,
     "metadata": {},
     "output_type": "execute_result"
    },
    {
     "data": {
      "image/png": "[encoded data removed]",
      "text/plain": [
       "<Figure size 432x288 with 1 Axes>"
      ]
     },
     "metadata": {
      "needs_background": "light"
     },
     "output_type": "display_data"
    }
   ],
   "source": [
    "sb.violinplot(D.skill_moves,D.overall)"
   ]
  },
  {
   "cell_type": "markdown",
   "metadata": {},
   "source": [
    "*Figure 6*. violinplots of the overall abilility dependent on the level of acrobatic skill. "
   ]
  },
  {
   "cell_type": "markdown",
   "metadata": {},
   "source": [
    "> The mean of the \"overal\" distribution seems to increase as the skill_move increase!"
   ]
  },
  {
   "cell_type": "markdown",
   "metadata": {},
   "source": [
    "### Question 3.2: Hypotheses (6pt)\n",
    "Calculate and report the difference in the mean overall ability for players that scored 4 and 5 on the skills test (4pts). Also report the number of players that scored 4 and the number of players that scored 5. (2pts)"
   ]
  },
  {
   "cell_type": "code",
   "execution_count": 44,
   "metadata": {},
   "outputs": [
    {
     "name": "stdout",
     "output_type": "stream",
     "text": [
      "The difference between overal score for skill move of 5 and 4 is 6.699999999999989\n"
     ]
    }
   ],
   "source": [
    "# calculating the mean differences\n",
    "def calcMeanDiff(df):\n",
    "    a4=df.overall[df.skill_moves==4].mean()\n",
    "    a5=df.overall[df.skill_moves==5].mean()\n",
    "    return a5-a4\n",
    "\n",
    "diff = calcMeanDiff(D)\n",
    "print(f\"The difference between overal score for skill move of 5 and 4 is {diff}\")\n"
   ]
  },
  {
   "cell_type": "code",
   "execution_count": 51,
   "metadata": {},
   "outputs": [
    {
     "data": {
      "text/plain": [
       "skill_moves\n",
       "1     336\n",
       "2    1583\n",
       "3     934\n",
       "4     140\n",
       "5       7\n",
       "Name: overall, dtype: int64"
      ]
     },
     "execution_count": 51,
     "metadata": {},
     "output_type": "execute_result"
    }
   ],
   "source": [
    "# getting the number of players with scores of 4 and 5\n",
    "group_skill = D['overall'].groupby(D['skill_moves']).count()\n",
    "# group_skill = D.groupby(D['skill_moves']).count()\n",
    "\n",
    "group_skill"
   ]
  },
  {
   "cell_type": "markdown",
   "metadata": {},
   "source": [
    "### Question 3.3: Randomization test (13pt)\n",
    "Test the hypothesis that players that get a 5 on the skills assessment have a higher overall ability than players who get a 4 on the skills test. Formulate the corresponding Null-hypothesis. (2pts) Then perform a randomisation test to test this null-hypothesis (3pts). When doing so, restrict the analysis and the randomisation test to data that comes from people that scored either 4 or 5 (2pts). Conduct a one- or two-sided test (as appropriate for the hypothesis). (choice: 1pt, execution:2pts)  Report the p-value (1pt). What can you conclude? (2pts)"
   ]
  },
  {
   "cell_type": "code",
   "execution_count": 52,
   "metadata": {},
   "outputs": [
    {
     "name": "stdout",
     "output_type": "stream",
     "text": [
      " P-value of the randomisation test is p=  0.086\n"
     ]
    },
    {
     "name": "stderr",
     "output_type": "stream",
     "text": [
      "/home/ladan/anaconda3/lib/python3.7/site-packages/ipykernel_launcher.py:31: RuntimeWarning: invalid value encountered in greater_equal\n"
     ]
    },
    {
     "data": {
      "text/plain": [
       "0.086"
      ]
     },
     "execution_count": 52,
     "metadata": {},
     "output_type": "execute_result"
    },
    {
     "data": {
      "image/png": "[encoded data removed]",
      "text/plain": [
       "<Figure size 432x288 with 1 Axes>"
      ]
     },
     "metadata": {
      "needs_background": "light"
     },
     "output_type": "display_data"
    }
   ],
   "source": [
    "def calcMeanDiff(D):\n",
    "    a4=D.overall[D.skill_moves==4].mean()\n",
    "    a5=D.overall[D.skill_moves==5].mean()\n",
    "    return a5-a4\n",
    "    \n",
    "def performRandomization(D,fcn,shuffle,numIterations=500,sides=1, nbins = 10):    \n",
    "    listOfTS =  np.array(range(numIterations),dtype = 'float64')\n",
    "    for i in range(numIterations):\n",
    "        #1. Randomly shuffle the data \n",
    "        S=D.copy()                    # Make copy of the data frame\n",
    "        x = np.array(range(len(D.index))) # Make copy of the data frame\n",
    "        np.random.shuffle(x)          # randomly shuffle x - note that this changes x itself! \n",
    "        y = S[shuffle].iloc[x]   # copy the newly reorded values into a new Series  \n",
    "        y = y.reset_index(drop=True)   #reoder the indices \n",
    "        S[shuffle]=y           # Copy back into the data frame\n",
    "        \n",
    "        #2. Calculate test statistics \n",
    "        listOfTS[i] = fcn(S)\n",
    "\n",
    "    # 3. Caluclate the real test statistic \n",
    "    realTS = fcn(D)\n",
    "      \n",
    "    # 4. Plot a histogram of the \n",
    "    plt.hist(listOfTS,bins= nbins)\n",
    "    plt.xlabel('test statistic')\n",
    "    plt.ylabel('count')\n",
    "    plt.axvline(x=realTS, color='k')\n",
    "    \n",
    "    # 5. determine p-value (one sided)\n",
    "    if sides==1: \n",
    "        p=sum(listOfTS>=realTS)/len(listOfTS)\n",
    "        print(' P-value of the randomisation test is p= ',p)\n",
    "    if sides==2:\n",
    "        plt.axvline(x=-realTS, color='r')\n",
    "        p=sum(np.absolute(listOfTS)>=realTS)/len(listOfTS)\n",
    "        print(' P-value of the randomisation test is p= ',p)\n",
    "    return p\n",
    "\n",
    "A=D[(D.skill_moves>3)]\n",
    "calcMeanDiff(A)\n",
    "performRandomization(A,calcMeanDiff,'skill_moves',sides=1)"
   ]
  },
  {
   "cell_type": "markdown",
   "metadata": {},
   "source": [
    "*Figure 7*. histogram showing the distribution of the differences in mean ability of players with skill_moves 4 and 5 under the null hypothesis. "
   ]
  },
  {
   "cell_type": "markdown",
   "metadata": {},
   "source": [
    "> Based on the evidence, we cannot reject the null-hypothesis that the overall ability of the players with acrobatic skill level 4 and 5 does not differ.  "
   ]
  },
  {
   "cell_type": "markdown",
   "metadata": {},
   "source": [
    "### Question 3.4: Interpretation (8pt)"
   ]
  },
  {
   "cell_type": "markdown",
   "metadata": {},
   "source": [
    "A professional coaching agency conducts a statistical test that shows that players with a skill_moves assessment of 4 or 5 have significantly better overall ability than players with skill_moves scores of 1-3. They are now using this result to sell acrobatic training camps to football clubs, claiming that \"better acrobatic skills with the ball make players better on the field\". \n",
    "\n",
    "What is the main problem with this claim? What evidence would the agency need to show to address this possible concern? Answer this question in 2-3 sentences.  "
   ]
  },
  {
   "cell_type": "markdown",
   "metadata": {},
   "source": [
    "> The main problem is that the agency is making a causal claim (3pts), ignoring all the other covariates that could be affecting the overal score (1pt)! To make a causal claim, the agency needs to conduct an experimental study, randomly assign players to the experimental and control group. (4pts) \n",
    "> 1pts for other solutions - matching / blocking."
   ]
  }
 ],
 "metadata": {
  "kernelspec": {
   "display_name": "base",
   "language": "python",
   "name": "python3"
  },
  "language_info": {
   "codemirror_mode": {
    "name": "ipython",
    "version": 3
   },
   "file_extension": ".py",
   "mimetype": "text/x-python",
   "name": "python",
   "nbconvert_exporter": "python",
   "pygments_lexer": "ipython3",
   "version": "3.9.5"
  },
  "vscode": {
   "interpreter": {
    "hash": "3d597f4c481aa0f25dceb95d2a0067e73c0966dcbd003d741d821a7208527ecf"
   }
  }
 },
 "nbformat": 4,
 "nbformat_minor": 1
}
