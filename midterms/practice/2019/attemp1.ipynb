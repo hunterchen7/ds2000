{
 "cells": [
  {
   "cell_type": "markdown",
   "metadata": {},
   "source": [
    "# Midterm IS2002B. Student ID: xxxxxx\n",
    "## General comments \n",
    "This Midterm integrates knowledge and skills acquired in the first half of the semester, especially in the last 6 Assignments. You are allowed to use any document and source on your computer and look up documents on the internet. You or not allowed to share documents, or communicate in any other way with people inside or outside the class room during the midterm. To finish the midterm in the alloted 2 hrs, you will have to work fast and efficiently. Good luck!\n",
    "## Preliminaries\n",
    "Sets up the environment by importing pandas, numpy, and matplotlib. Because we are using plots make sure that you configure your notebook such that plots are shown inline (see Assignment 2). "
   ]
  },
  {
   "cell_type": "code",
   "execution_count": 2,
   "metadata": {
    "ExecuteTime": {
     "end_time": "2024-02-28T08:42:54.462291Z",
     "start_time": "2024-02-28T08:42:54.290048Z"
    }
   },
   "outputs": [],
   "source": [
    "import matplotlib\n",
    "matplotlib.use('TkAgg')\n",
    "import matplotlib.pyplot as plt \n",
    "%matplotlib inline\n",
    "import scipy.stats as ss\n",
    "import pandas as pd \n",
    "import numpy as np\n",
    "import seaborn as sb"
   ]
  },
  {
   "cell_type": "markdown",
   "metadata": {},
   "source": [
    "## Data set \n",
    "The data set for the midterm is a *random* sample of 377 observations from the US 2000 census. A census is a survery of the entire population of the US, conducted every 10 years. 16% of the population (selected at random) also fill out a long-form. The present data comes from these long-form respondents. \n",
    "\n",
    "The data frame contains the data\n",
    "- censusYear:\t\tCensus Year.\n",
    "- state:\t\t\tName of state.\n",
    "- area:             Rough geographic area of the state (east, north, west, & south) \n",
    "- familyIncome: \tTotal family income (in U.S. dollars).\n",
    "- age: \t\t\t    Age (years)\n",
    "- sex: \t\t\t    Sex with levels Female and Male.\n",
    "- raceGeneral: \t    Race with levels White, Black, Other \n",
    "- maritalStatus: \tMarital status with levels Divorced, Married, Single, and Widowed.\n",
    "- personalIncome:  \tTotal personal income (in U.S. dollars). \n",
    "\n",
    "https://en.wikipedia.org/wiki/2000_United_States_Census\n"
   ]
  },
  {
   "cell_type": "markdown",
   "metadata": {},
   "source": [
    "## Task 1: Geographic area and race (35pt)\n",
    "In this task you will explore the connection between the geographic area: \n",
    "- West: Western states\n",
    "- East: upper East coast\n",
    "- South: Deep south and southern east cost + Texas\n",
    "- North: The upper midwest\n",
    "\n",
    "and the general race (white, black, other). \n",
    "\n",
    "### Question 1 (8pt)\n",
    "Generate a table with the conditional probabilities of being of white, black or other racial background (raceGeneral), given that the respondent lived in the north, south, west and east (area). Then generate a plot that  is ideally suited to let you compare the relative racial proportions of people in each area. Remember to provide axis lables and a caption. Written answer: Which proportions appears larger for a particular area than for any of the others?  "
   ]
  },
  {
   "cell_type": "code",
   "execution_count": 32,
   "metadata": {
    "ExecuteTime": {
     "end_time": "2024-02-28T08:52:09.692404Z",
     "start_time": "2024-02-28T08:52:09.685351Z"
    }
   },
   "outputs": [],
   "source": [
    "df = pd.read_csv('census.csv')\n"
   ]
  },
  {
   "cell_type": "code",
   "outputs": [
    {
     "data": {
      "text/plain": "raceGeneral     Black     Other     White\narea                                     \neast         0.166667  0.114035  0.719298\nnorth        0.036585  0.073171  0.890244\nsouth        0.205357  0.044643  0.750000\nwest         0.028986  0.347826  0.623188",
      "text/html": "<div>\n<style scoped>\n    .dataframe tbody tr th:only-of-type {\n        vertical-align: middle;\n    }\n\n    .dataframe tbody tr th {\n        vertical-align: top;\n    }\n\n    .dataframe thead th {\n        text-align: right;\n    }\n</style>\n<table border=\"1\" class=\"dataframe\">\n  <thead>\n    <tr style=\"text-align: right;\">\n      <th>raceGeneral</th>\n      <th>Black</th>\n      <th>Other</th>\n      <th>White</th>\n    </tr>\n    <tr>\n      <th>area</th>\n      <th></th>\n      <th></th>\n      <th></th>\n    </tr>\n  </thead>\n  <tbody>\n    <tr>\n      <th>east</th>\n      <td>0.166667</td>\n      <td>0.114035</td>\n      <td>0.719298</td>\n    </tr>\n    <tr>\n      <th>north</th>\n      <td>0.036585</td>\n      <td>0.073171</td>\n      <td>0.890244</td>\n    </tr>\n    <tr>\n      <th>south</th>\n      <td>0.205357</td>\n      <td>0.044643</td>\n      <td>0.750000</td>\n    </tr>\n    <tr>\n      <th>west</th>\n      <td>0.028986</td>\n      <td>0.347826</td>\n      <td>0.623188</td>\n    </tr>\n  </tbody>\n</table>\n</div>"
     },
     "execution_count": 34,
     "metadata": {},
     "output_type": "execute_result"
    }
   ],
   "source": [
    "T = pd.crosstab(df.area, df.raceGeneral, normalize='index')\n",
    "T"
   ],
   "metadata": {
    "collapsed": false,
    "ExecuteTime": {
     "end_time": "2024-02-28T08:52:42.712245Z",
     "start_time": "2024-02-28T08:52:42.701389Z"
    }
   },
   "execution_count": 34
  },
  {
   "cell_type": "code",
   "outputs": [
    {
     "data": {
      "text/plain": "Text(0, 0.5, 'Proportion')"
     },
     "execution_count": 35,
     "metadata": {},
     "output_type": "execute_result"
    },
    {
     "data": {
      "text/plain": "<Figure size 640x480 with 1 Axes>",
      "image/png": "[encoded data removed]"
     },
     "metadata": {},
     "output_type": "display_data"
    }
   ],
   "source": [
    "T.plot(kind='bar', stacked=True)\n",
    "plt.ylabel('Proportion')"
   ],
   "metadata": {
    "collapsed": false,
    "ExecuteTime": {
     "end_time": "2024-02-28T08:53:08.235102Z",
     "start_time": "2024-02-28T08:53:08.061740Z"
    }
   },
   "execution_count": 35
  },
  {
   "cell_type": "markdown",
   "source": [
    "proportion of white people appear larger in the north than any other area. the \"other\" category is higher in the west than any other region."
   ],
   "metadata": {
    "collapsed": false
   }
  },
  {
   "cell_type": "markdown",
   "metadata": {},
   "source": [
    "### Question 2 (5pt)\n",
    "What measurement scale does area, raceGeneral, and personalIncome have?    "
   ]
  },
  {
   "cell_type": "markdown",
   "source": [
    "area and raceGeneral are nominal, personalIncome is ratio scale"
   ],
   "metadata": {
    "collapsed": false
   }
  },
  {
   "cell_type": "markdown",
   "metadata": {},
   "source": [
    "### Question 3 (5pt)\n",
    "We want to test the hypothesis that the proportion of white people is different in the western states (area = 'west') than in the eastern states (area = 'east). Formulate precisely the null hypothesis and the alternative hypothesis. To test this idea, will you have to conduct a one-sided or two-sided test? "
   ]
  },
  {
   "cell_type": "code",
   "execution_count": 5,
   "metadata": {
    "ExecuteTime": {
     "end_time": "2024-02-28T08:42:54.498101Z",
     "start_time": "2024-02-28T08:42:54.495358Z"
    }
   },
   "outputs": [],
   "source": [
    "# h0: pop_white_west = pop_white_east\n",
    "# h1: pop_white_west != pop_white_west\n",
    "\n",
    "# two sided test, since it can go in either direction"
   ]
  },
  {
   "cell_type": "markdown",
   "metadata": {},
   "source": [
    "### Question 4 (10pt)\n",
    "Decide on an appropriate statistic to use to test the hypothesis forumlated in Q3. Then perform a randomization test to test whether you can reject the Null-hypothesis. Your code should produce a figure, which shows the distribution of your chosen test statistics under the Null hypothesis, as well as the empirical value as a vertical line.  Remember to provide axis lables and a caption. Written answer: Report the value of the statistics and the associated p-value, using at least 1000 iterations. What do you conclude regarding the hypotheses formulated above? "
   ]
  },
  {
   "cell_type": "code",
   "execution_count": 36,
   "metadata": {
    "ExecuteTime": {
     "end_time": "2024-02-28T09:17:01.981935Z",
     "start_time": "2024-02-28T09:17:01.774693Z"
    }
   },
   "outputs": [
    {
     "data": {
      "text/plain": "0.09610983981693366"
     },
     "execution_count": 36,
     "metadata": {},
     "output_type": "execute_result"
    },
    {
     "data": {
      "text/plain": "<Figure size 640x480 with 1 Axes>",
      "image/png": "[encoded data removed]"
     },
     "metadata": {},
     "output_type": "display_data"
    }
   ],
   "source": [
    "filtered_df = df[df['area'].isin(['west', 'east'])]\n",
    "\n",
    "full_ct = pd.crosstab(filtered_df['raceGeneral'], filtered_df['area'])\n",
    "totals = full_ct.sum(axis=0)\n",
    "ct = pd.DataFrame({\n",
    "    'White': full_ct.loc['White'],\n",
    "    'Other': totals - full_ct.loc['White']\n",
    "}).T\n",
    "\n",
    "east_prop = ct['east']['White'] / (ct['east']['Other'] + ct['east']['White'])\n",
    "west_prop = ct['west']['White'] / (ct['west']['Other'] + ct['west']['White'])\n",
    "\n",
    "obs_diff_prop = abs(east_prop - west_prop)\n",
    "\n",
    "all_white = [1] * (ct['east']['White'] + ct['west']['White']) + [0] * (ct['east']['Other'] + ct['west']['Other'])\n",
    "\n",
    "def randomization_test(data, test_statistic, n=1000):\n",
    "    test_stats = []\n",
    "    for _ in range(n):\n",
    "        np.random.shuffle(data)\n",
    "        east = data[:ct['east']['White'] + ct['east']['Other']]\n",
    "        west = data[ct['east']['White'] + ct['east']['Other']:]\n",
    "        test_stats.append(abs(test_statistic(east)) - abs(test_statistic(west)))\n",
    "    return test_stats\n",
    "\n",
    "test_stats = randomization_test(all_white, np.mean, n=1000)\n",
    "\n",
    "plt.hist(test_stats, density=True, bins=30)\n",
    "plt.axvline(obs_diff_prop, color='red')\n",
    "plt.axvline(-obs_diff_prop, color='red')\n",
    "obs_diff_prop\n"
   ]
  },
  {
   "cell_type": "markdown",
   "source": [
    "based on the permutation test, we can "
   ],
   "metadata": {
    "collapsed": false
   }
  },
  {
   "cell_type": "markdown",
   "metadata": {},
   "source": [
    "### Question 5 (7pt)\n",
    "Based on the results from Question 4, a news outlet publishes the following headline: \"New study finds that racial diversity is equal on east and west coast of the US\". What are possible problems with this claim? "
   ]
  },
  {
   "cell_type": "markdown",
   "source": [
    "the study only looks at a small sample of the population. it also only looks at the proportion of white people to the rest of the population and doesn't consider other races. the population of states also are not considered, and we don't know how randomly people were surveyed."
   ],
   "metadata": {
    "collapsed": false
   }
  },
  {
   "cell_type": "code",
   "execution_count": 7,
   "metadata": {
    "ExecuteTime": {
     "end_time": "2024-02-28T08:42:54.569627Z",
     "start_time": "2024-02-28T08:42:54.566183Z"
    }
   },
   "outputs": [],
   "source": [
    "# "
   ]
  },
  {
   "cell_type": "markdown",
   "metadata": {},
   "source": [
    "## TASK 2: Racial inequality in annual income (27pt)\n",
    "### Question 1 (10pt)\n",
    "Generate a visualisation of personal income depending on the general racial background of the person (White, Black, Other). The visualization should show medians, quartiles and let you make some inference about the shape of the distribution.  Remember to provide axis lables and a caption. Written answer: What is the shape of the distribution for the personalIncome based on your plot? Which racial category earns the most? Which one the least? "
   ]
  },
  {
   "cell_type": "code",
   "execution_count": 37,
   "metadata": {
    "ExecuteTime": {
     "end_time": "2024-02-28T09:19:24.008512Z",
     "start_time": "2024-02-28T09:19:23.891276Z"
    }
   },
   "outputs": [
    {
     "data": {
      "text/plain": "<Axes: xlabel='raceGeneral', ylabel='personalIncome'>"
     },
     "execution_count": 37,
     "metadata": {},
     "output_type": "execute_result"
    },
    {
     "data": {
      "text/plain": "<Figure size 640x480 with 1 Axes>",
      "image/png": "[encoded data removed]"
     },
     "metadata": {},
     "output_type": "display_data"
    }
   ],
   "source": [
    "sb.boxplot(x='raceGeneral', y='personalIncome', data=df)"
   ]
  },
  {
   "cell_type": "markdown",
   "source": [
    "shape for all distributions is strongly right skewed, median is highest for white and lowest for black people."
   ],
   "metadata": {
    "collapsed": false
   }
  },
  {
   "cell_type": "markdown",
   "metadata": {},
   "source": [
    "### Question 2 (10pt)\n",
    "Using a bootstrap, determine the *median* personal income and the 95% confidence interval for the median for white people and for black people seperately. Each bootstrap sample should contain as many data points as are in the sample. Tip 1: Write a function and then call it with the data of personal income for black and white people separately. \n",
    "Tip 2: You can get the number of elements in a data Series with data.shape[0] "
   ]
  },
  {
   "cell_type": "code",
   "execution_count": 7,
   "metadata": {
    "ExecuteTime": {
     "end_time": "2024-02-28T08:42:54.578186Z",
     "start_time": "2024-02-28T08:42:54.575442Z"
    }
   },
   "outputs": [],
   "source": []
  },
  {
   "cell_type": "markdown",
   "metadata": {},
   "source": [
    "### Question 3 (7pt)\n",
    "Is the confidence interval for the median income larger for white or black people? Why? "
   ]
  },
  {
   "cell_type": "code",
   "execution_count": 7,
   "metadata": {
    "ExecuteTime": {
     "end_time": "2024-02-28T08:42:54.582151Z",
     "start_time": "2024-02-28T08:42:54.579209Z"
    }
   },
   "outputs": [],
   "source": []
  },
  {
   "cell_type": "markdown",
   "metadata": {},
   "source": [
    "## Task 3: Testing for a north-south income difference (38pt)\n",
    "### Question 1 (8pt)\n",
    "Make a violin plot of the personalIncome (y-variable), depending on the geographic area (x-variable).  Remember to provide axis lables and a caption. What do you see if you compare incomes in the south and the north of the US? How do the means compare? How do the medians compare? Why do these two statistics apparently give you different answers?  "
   ]
  },
  {
   "cell_type": "code",
   "execution_count": 7,
   "metadata": {
    "ExecuteTime": {
     "end_time": "2024-02-28T08:42:54.588332Z",
     "start_time": "2024-02-28T08:42:54.585263Z"
    }
   },
   "outputs": [],
   "source": []
  },
  {
   "cell_type": "markdown",
   "metadata": {},
   "source": [
    "### Question 2: Hypotheses (5pt)\n",
    "Test the hypothesis that the *median* personal income in the south is *lower* than in in the north. Formulate the null- and alternative hypotheses. "
   ]
  },
  {
   "cell_type": "code",
   "execution_count": 7,
   "metadata": {
    "ExecuteTime": {
     "end_time": "2024-02-28T08:42:54.592526Z",
     "start_time": "2024-02-28T08:42:54.589923Z"
    }
   },
   "outputs": [],
   "source": []
  },
  {
   "cell_type": "markdown",
   "metadata": {},
   "source": [
    "### Question 3: Randomization test (10pt)\n",
    "Use the difference in medians between north and south as your test statistics. Then perform a randomisation test to test the null-hypothesis. When doing so, restrict the analysis and the randomisation test to data that comes from people in the north and south (excluding \"east\" and \"west\"). Conduct a one- or two-sided test (as appropriate for the hypothesis).  What can you conclude? "
   ]
  },
  {
   "cell_type": "code",
   "execution_count": 7,
   "metadata": {
    "ExecuteTime": {
     "end_time": "2024-02-28T08:42:54.596452Z",
     "start_time": "2024-02-28T08:42:54.593565Z"
    }
   },
   "outputs": [],
   "source": []
  },
  {
   "cell_type": "markdown",
   "metadata": {},
   "source": [
    "### Question 4: Standard deviation of bootstrap samples (5pt)"
   ]
  },
  {
   "cell_type": "markdown",
   "metadata": {},
   "source": [
    "Modify your randomization function, such that it prints out the standard deviation of the median differences under the null-hypothesis. "
   ]
  },
  {
   "cell_type": "code",
   "execution_count": 7,
   "metadata": {
    "ExecuteTime": {
     "end_time": "2024-02-28T08:42:54.600758Z",
     "start_time": "2024-02-28T08:42:54.597472Z"
    }
   },
   "outputs": [],
   "source": []
  },
  {
   "cell_type": "markdown",
   "metadata": {},
   "source": [
    "### Question 5: Bayesian hypothesis testing (10pt)\n",
    "Using the normal approximation, conduct a Bayesian hypothesis test of the null vs. alternative hypothesis formulated in question 2. For the null hypothesis, assume that the median difference has a mean of 0 and a SD of the that you found in Question 4. for the alternative hypothesis assume that the median income in the north is 10000 USD higher than in the south, again using the SD from Question 4. Starting from equal prior probabilities, report the BF and the posterior probability for the Null-hypothesis. Comment your code to show your calculations. Written answer: What do you conclude?  "
   ]
  },
  {
   "cell_type": "code",
   "execution_count": 7,
   "metadata": {
    "ExecuteTime": {
     "end_time": "2024-02-28T08:42:54.605265Z",
     "start_time": "2024-02-28T08:42:54.601849Z"
    }
   },
   "outputs": [],
   "source": []
  }
 ],
 "metadata": {
  "kernelspec": {
   "display_name": "Python 3",
   "language": "python",
   "name": "python3"
  },
  "language_info": {
   "codemirror_mode": {
    "name": "ipython",
    "version": 3
   },
   "file_extension": ".py",
   "mimetype": "text/x-python",
   "name": "python",
   "nbconvert_exporter": "python",
   "pygments_lexer": "ipython3",
   "version": "3.7.4"
  }
 },
 "nbformat": 4,
 "nbformat_minor": 1
}
