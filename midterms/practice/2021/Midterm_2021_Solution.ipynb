{
 "cells": [
  {
   "cell_type": "markdown",
   "metadata": {},
   "source": [
    "# Midterm - SS 3850G / CS 4414B\n",
    "\n",
    "## Student ID: XXXXXXXXX (XX / 100)\n",
    "\n",
    "## General comments\n",
    "\n",
    "This Midterm integrates knowledge and skills acquired in the first half of the semester, especially in the first six Assignments. You are allowed to use any document and source on your computer and look up documents on the internet. **You are NOT allowed to share documents, or communicate in any other way with people inside or outside the class during the midterm.** To finish the midterm in the alloted 3 hrs, you will have to work efficiently. **Read the entirety of each question carefully.** \n",
    "\n",
    "You need to submit the midterm by the due date (13:30) on OWL under Assignments/Midterm. Late submission will be scored with 0 pts, unless you have received extra accommadation. So please start your submission five minutes before the deadline!  \n",
    "\n",
    "### Additional Guidance\n",
    "\n",
    "The midterm is supposed to challengeing. If you get stuck on a particular question because you can't solve a programming problem, just write down in text *how* you would try to solve the problem - if correct this can give you partial points. Then continue the other parts of the question, the next question, or next task. If you can only answer a question if you have solve the previous problem, just *assume* some outcome and answer the question under that assumption. If you do this, make your assumptions explicit. \n",
    "\n",
    "Read all the questions carefully. Each questions demands a written answer as part of it. These need to be spelled out in a whole English sentence. "
   ]
  },
  {
   "cell_type": "code",
   "execution_count": 2,
   "metadata": {},
   "outputs": [],
   "source": [
    "## Preliminaries\n",
    "# Sets up the environment by importing \n",
    "# pandas, numpy, matplotlib, and seaborn. \n",
    "\n",
    "### You are not allowed to rely on any other packages or modules.  \n",
    "\n",
    "import matplotlib\n",
    "import matplotlib.pyplot as plt \n",
    "%matplotlib inline\n",
    "\n",
    "import pandas as pd \n",
    "import numpy as np\n",
    "import seaborn as sns\n"
   ]
  },
  {
   "cell_type": "markdown",
   "metadata": {},
   "source": [
    "## Data set\n",
    "\n",
    "In 2007, Paulo Cortés and Aníbal Morais, at the University of Minho in Portugal, studied the use of data science techniques to tackle the challenging problem of forest fire prediction. They described their work as follows:\n",
    "\n",
    "\"Forest fires are a major environmental issue, creating economical andecological damage while endangering human lives. A good understanding of the risk factors and factor influencing the occurence of fires is therefore essential.\" \n",
    "\n",
    "In general, forest fire risks are measured using the Canadian Forest Fire Weather Index (FFWI) for rating forest fire danger. You are provided with a dataset from the Montesinho natural park, from the Tras-os-Montes northeast region of Portugal. The data used in the experiments was collected from January 2000 to December 2003. At a daily basis, every time a forest fire occurred, several features were collected such as the time, date, spatial location within a 9×9 grid and the type of vegetation involved, four components of the FWI system and the total burned area, and complemented with several weather observations (e.g. wind speed) recorded at the time of the event. The detailed variables are:\n",
    "\n",
    "1. X - x-axis spatial coordinate within the Montesinho park map: 1 to 9\n",
    "2. Y - y-axis spatial coordinate within the Montesinho park map: 2 to 9\n",
    "3. month - month of the year: 'jan = 1 ' to 'dec = 12'\n",
    "4. day - day of the week: 'mon = 1' to 'sun = 7'\n",
    "5. FFMC - FFMC (Rain, Temperature, Wind and Humidity relationship) index from the FFWI system: 18.7 to 96.20\n",
    "6. DMC - DMC (Rain, Temperature,and Humidity relationship) index from the FFWI system: 1.1 to 291.3\n",
    "7. DC - DC (Rain and Temperature relationship) index from the FFWI system: 7.9 to 860.6\n",
    "8. ISI - ISI (Wind speed risk) index from the FWI system: 0.0 to 56.10\n",
    "9. temp - temperature in Celsius degrees: 2.2 to 33.30\n",
    "10. RH - relative humidity in %: 15.0 to 100\n",
    "11. wind - wind speed in km/h: 0.40 to 9.40\n",
    "12. rain - outside rain in mm/m2 : 0.0 to 6.4\n",
    "13. area - the burned area of the forest (in ha): 0.00 to 1090.84. Note that most burns remained localized (ie. area = 0.00).\n",
    "\n",
    "With this information, answer the following questions using your knowledge of the course.\n"
   ]
  },
  {
   "cell_type": "markdown",
   "metadata": {},
   "source": [
    "## Task 1: The yearly cycle of forest fires \n",
    "\n",
    "### Question 1.1  (x/ 2 pts)\n",
    "\n",
    "Load the data. How many cases do you have in your data frame? "
   ]
  },
  {
   "cell_type": "code",
   "execution_count": 3,
   "metadata": {},
   "outputs": [
    {
     "data": {
      "text/html": [
       "<div>\n",
       "<style scoped>\n",
       "    .dataframe tbody tr th:only-of-type {\n",
       "        vertical-align: middle;\n",
       "    }\n",
       "\n",
       "    .dataframe tbody tr th {\n",
       "        vertical-align: top;\n",
       "    }\n",
       "\n",
       "    .dataframe thead th {\n",
       "        text-align: right;\n",
       "    }\n",
       "</style>\n",
       "<table border=\"1\" class=\"dataframe\">\n",
       "  <thead>\n",
       "    <tr style=\"text-align: right;\">\n",
       "      <th></th>\n",
       "      <th>Unnamed: 0</th>\n",
       "      <th>X</th>\n",
       "      <th>Y</th>\n",
       "      <th>month</th>\n",
       "      <th>day</th>\n",
       "      <th>FFMC</th>\n",
       "      <th>DMC</th>\n",
       "      <th>DC</th>\n",
       "      <th>ISI</th>\n",
       "      <th>temp</th>\n",
       "      <th>RH</th>\n",
       "      <th>wind</th>\n",
       "      <th>rain</th>\n",
       "      <th>area</th>\n",
       "    </tr>\n",
       "  </thead>\n",
       "  <tbody>\n",
       "    <tr>\n",
       "      <th>0</th>\n",
       "      <td>0</td>\n",
       "      <td>7</td>\n",
       "      <td>5</td>\n",
       "      <td>3</td>\n",
       "      <td>5</td>\n",
       "      <td>86.2</td>\n",
       "      <td>26.2</td>\n",
       "      <td>94.3</td>\n",
       "      <td>5.1</td>\n",
       "      <td>8.2</td>\n",
       "      <td>51</td>\n",
       "      <td>6.7</td>\n",
       "      <td>0.0</td>\n",
       "      <td>0.00</td>\n",
       "    </tr>\n",
       "    <tr>\n",
       "      <th>1</th>\n",
       "      <td>1</td>\n",
       "      <td>7</td>\n",
       "      <td>4</td>\n",
       "      <td>10</td>\n",
       "      <td>2</td>\n",
       "      <td>90.6</td>\n",
       "      <td>35.4</td>\n",
       "      <td>669.1</td>\n",
       "      <td>6.7</td>\n",
       "      <td>18.0</td>\n",
       "      <td>33</td>\n",
       "      <td>0.9</td>\n",
       "      <td>0.0</td>\n",
       "      <td>0.00</td>\n",
       "    </tr>\n",
       "    <tr>\n",
       "      <th>2</th>\n",
       "      <td>2</td>\n",
       "      <td>7</td>\n",
       "      <td>4</td>\n",
       "      <td>10</td>\n",
       "      <td>6</td>\n",
       "      <td>90.6</td>\n",
       "      <td>43.7</td>\n",
       "      <td>686.9</td>\n",
       "      <td>6.7</td>\n",
       "      <td>14.6</td>\n",
       "      <td>33</td>\n",
       "      <td>1.3</td>\n",
       "      <td>0.0</td>\n",
       "      <td>0.00</td>\n",
       "    </tr>\n",
       "    <tr>\n",
       "      <th>3</th>\n",
       "      <td>3</td>\n",
       "      <td>8</td>\n",
       "      <td>6</td>\n",
       "      <td>3</td>\n",
       "      <td>5</td>\n",
       "      <td>91.7</td>\n",
       "      <td>33.3</td>\n",
       "      <td>77.5</td>\n",
       "      <td>9.0</td>\n",
       "      <td>8.3</td>\n",
       "      <td>97</td>\n",
       "      <td>4.0</td>\n",
       "      <td>0.2</td>\n",
       "      <td>0.00</td>\n",
       "    </tr>\n",
       "    <tr>\n",
       "      <th>4</th>\n",
       "      <td>4</td>\n",
       "      <td>8</td>\n",
       "      <td>6</td>\n",
       "      <td>3</td>\n",
       "      <td>7</td>\n",
       "      <td>89.3</td>\n",
       "      <td>51.3</td>\n",
       "      <td>102.2</td>\n",
       "      <td>9.6</td>\n",
       "      <td>11.4</td>\n",
       "      <td>99</td>\n",
       "      <td>1.8</td>\n",
       "      <td>0.0</td>\n",
       "      <td>0.00</td>\n",
       "    </tr>\n",
       "    <tr>\n",
       "      <th>...</th>\n",
       "      <td>...</td>\n",
       "      <td>...</td>\n",
       "      <td>...</td>\n",
       "      <td>...</td>\n",
       "      <td>...</td>\n",
       "      <td>...</td>\n",
       "      <td>...</td>\n",
       "      <td>...</td>\n",
       "      <td>...</td>\n",
       "      <td>...</td>\n",
       "      <td>...</td>\n",
       "      <td>...</td>\n",
       "      <td>...</td>\n",
       "      <td>...</td>\n",
       "    </tr>\n",
       "    <tr>\n",
       "      <th>512</th>\n",
       "      <td>512</td>\n",
       "      <td>4</td>\n",
       "      <td>3</td>\n",
       "      <td>8</td>\n",
       "      <td>7</td>\n",
       "      <td>81.6</td>\n",
       "      <td>56.7</td>\n",
       "      <td>665.6</td>\n",
       "      <td>1.9</td>\n",
       "      <td>27.8</td>\n",
       "      <td>32</td>\n",
       "      <td>2.7</td>\n",
       "      <td>0.0</td>\n",
       "      <td>6.44</td>\n",
       "    </tr>\n",
       "    <tr>\n",
       "      <th>513</th>\n",
       "      <td>513</td>\n",
       "      <td>2</td>\n",
       "      <td>4</td>\n",
       "      <td>8</td>\n",
       "      <td>7</td>\n",
       "      <td>81.6</td>\n",
       "      <td>56.7</td>\n",
       "      <td>665.6</td>\n",
       "      <td>1.9</td>\n",
       "      <td>21.9</td>\n",
       "      <td>71</td>\n",
       "      <td>5.8</td>\n",
       "      <td>0.0</td>\n",
       "      <td>54.29</td>\n",
       "    </tr>\n",
       "    <tr>\n",
       "      <th>514</th>\n",
       "      <td>514</td>\n",
       "      <td>7</td>\n",
       "      <td>4</td>\n",
       "      <td>8</td>\n",
       "      <td>7</td>\n",
       "      <td>81.6</td>\n",
       "      <td>56.7</td>\n",
       "      <td>665.6</td>\n",
       "      <td>1.9</td>\n",
       "      <td>21.2</td>\n",
       "      <td>70</td>\n",
       "      <td>6.7</td>\n",
       "      <td>0.0</td>\n",
       "      <td>11.16</td>\n",
       "    </tr>\n",
       "    <tr>\n",
       "      <th>515</th>\n",
       "      <td>515</td>\n",
       "      <td>1</td>\n",
       "      <td>4</td>\n",
       "      <td>8</td>\n",
       "      <td>6</td>\n",
       "      <td>94.4</td>\n",
       "      <td>146.0</td>\n",
       "      <td>614.7</td>\n",
       "      <td>11.3</td>\n",
       "      <td>25.6</td>\n",
       "      <td>42</td>\n",
       "      <td>4.0</td>\n",
       "      <td>0.0</td>\n",
       "      <td>0.00</td>\n",
       "    </tr>\n",
       "    <tr>\n",
       "      <th>516</th>\n",
       "      <td>516</td>\n",
       "      <td>6</td>\n",
       "      <td>3</td>\n",
       "      <td>11</td>\n",
       "      <td>2</td>\n",
       "      <td>79.5</td>\n",
       "      <td>3.0</td>\n",
       "      <td>106.7</td>\n",
       "      <td>1.1</td>\n",
       "      <td>11.8</td>\n",
       "      <td>31</td>\n",
       "      <td>4.5</td>\n",
       "      <td>0.0</td>\n",
       "      <td>0.00</td>\n",
       "    </tr>\n",
       "  </tbody>\n",
       "</table>\n",
       "<p>517 rows × 14 columns</p>\n",
       "</div>"
      ],
      "text/plain": [
       "     Unnamed: 0  X  Y  month  day  FFMC    DMC     DC   ISI  temp  RH  wind  \\\n",
       "0             0  7  5      3    5  86.2   26.2   94.3   5.1   8.2  51   6.7   \n",
       "1             1  7  4     10    2  90.6   35.4  669.1   6.7  18.0  33   0.9   \n",
       "2             2  7  4     10    6  90.6   43.7  686.9   6.7  14.6  33   1.3   \n",
       "3             3  8  6      3    5  91.7   33.3   77.5   9.0   8.3  97   4.0   \n",
       "4             4  8  6      3    7  89.3   51.3  102.2   9.6  11.4  99   1.8   \n",
       "..          ... .. ..    ...  ...   ...    ...    ...   ...   ...  ..   ...   \n",
       "512         512  4  3      8    7  81.6   56.7  665.6   1.9  27.8  32   2.7   \n",
       "513         513  2  4      8    7  81.6   56.7  665.6   1.9  21.9  71   5.8   \n",
       "514         514  7  4      8    7  81.6   56.7  665.6   1.9  21.2  70   6.7   \n",
       "515         515  1  4      8    6  94.4  146.0  614.7  11.3  25.6  42   4.0   \n",
       "516         516  6  3     11    2  79.5    3.0  106.7   1.1  11.8  31   4.5   \n",
       "\n",
       "     rain   area  \n",
       "0     0.0   0.00  \n",
       "1     0.0   0.00  \n",
       "2     0.0   0.00  \n",
       "3     0.2   0.00  \n",
       "4     0.0   0.00  \n",
       "..    ...    ...  \n",
       "512   0.0   6.44  \n",
       "513   0.0  54.29  \n",
       "514   0.0  11.16  \n",
       "515   0.0   0.00  \n",
       "516   0.0   0.00  \n",
       "\n",
       "[517 rows x 14 columns]"
      ]
     },
     "execution_count": 3,
     "metadata": {},
     "output_type": "execute_result"
    }
   ],
   "source": [
    "FF = pd.read_csv('forestfires.csv') # 1pt\n",
    "FF"
   ]
  },
  {
   "cell_type": "markdown",
   "metadata": {},
   "source": [
    "Written answer: There are 517 observations. [1pt]"
   ]
  },
  {
   "cell_type": "markdown",
   "metadata": {},
   "source": [
    "### Question 1.2 (x/3pts)\n",
    "Plot a histogram of the dependent variable ('area'). Make sure the axes are labeled. How would you describe the distribution? "
   ]
  },
  {
   "cell_type": "code",
   "execution_count": 4,
   "metadata": {},
   "outputs": [
    {
     "name": "stderr",
     "output_type": "stream",
     "text": [
      "/home/ladan/anaconda3/lib/python3.8/site-packages/seaborn/distributions.py:2557: FutureWarning: `distplot` is a deprecated function and will be removed in a future version. Please adapt your code to use either `displot` (a figure-level function with similar flexibility) or `histplot` (an axes-level function for histograms).\n",
      "  warnings.warn(msg, FutureWarning)\n"
     ]
    },
    {
     "data": {
      "text/plain": [
       "Text(0, 0.5, 'proportion')"
      ]
     },
     "execution_count": 4,
     "metadata": {},
     "output_type": "execute_result"
    },
    {
     "data": {
      "image/png": "[encoded data removed]",
      "text/plain": [
       "<Figure size 432x288 with 1 Axes>"
      ]
     },
     "metadata": {
      "needs_background": "light"
     },
     "output_type": "display_data"
    }
   ],
   "source": [
    "ax = sns.distplot(FF.area) # 1 pt \n",
    "ax.set_ylabel('proportion') # 1 pts - \"counts\" if plotted a histogram"
   ]
  },
  {
   "cell_type": "markdown",
   "metadata": {},
   "source": [
    "Figure. Histogram of area"
   ]
  },
  {
   "cell_type": "markdown",
   "metadata": {},
   "source": [
    "Written answer: The distribution is extremeley right-skewed with most values 0 and only a few fires being bigger. ## 1 pt "
   ]
  },
  {
   "cell_type": "markdown",
   "metadata": {},
   "source": [
    "### Question 1.3 (x/2pts)\n",
    "What measurement scale does area have? "
   ]
  },
  {
   "cell_type": "markdown",
   "metadata": {},
   "source": [
    "Ratio scale  [2pts]"
   ]
  },
  {
   "cell_type": "markdown",
   "metadata": {},
   "source": [
    "### Question 1.4 (x/4pts)\n",
    "If you wanted to to characterize the typical burn size for each month of the year, would you use the mean or median?\n",
    "What would be one argument for using the median? \n",
    "What would be one argument for using the mean? "
   ]
  },
  {
   "cell_type": "markdown",
   "metadata": {},
   "source": [
    "I would prefer to use xxxx. (since there are arguments for both, there is no right or wrong). \n",
    "One reason for using the median over the mean is that the distribution of area is extremely skewed. This makes the mean highly sensitive to extreme values. The median is more robust. [2 pts]\n",
    "\n",
    "One reason for using the mean over the median is that most burns are 0 size - so the median also often becomes zero. Then you cannot see any possible differences between month. I.e. the median looses some information [2pts]. "
   ]
  },
  {
   "cell_type": "markdown",
   "metadata": {},
   "source": [
    "### Question 1.5 (x/3pts)\n",
    "Make a histogram or distribution plot for the month of the year that the fires were recorded. Make sure to label your axes correctly. How would you describe the shape of the distribution? "
   ]
  },
  {
   "cell_type": "code",
   "execution_count": 5,
   "metadata": {},
   "outputs": [
    {
     "name": "stderr",
     "output_type": "stream",
     "text": [
      "/home/ladan/anaconda3/lib/python3.8/site-packages/seaborn/distributions.py:2557: FutureWarning: `distplot` is a deprecated function and will be removed in a future version. Please adapt your code to use either `displot` (a figure-level function with similar flexibility) or `histplot` (an axes-level function for histograms).\n",
      "  warnings.warn(msg, FutureWarning)\n"
     ]
    },
    {
     "data": {
      "text/plain": [
       "Text(0, 0.5, 'proportion')"
      ]
     },
     "execution_count": 5,
     "metadata": {},
     "output_type": "execute_result"
    },
    {
     "data": {
      "image/png": "[encoded data removed]",
      "text/plain": [
       "<Figure size 432x288 with 1 Axes>"
      ]
     },
     "metadata": {
      "needs_background": "light"
     },
     "output_type": "display_data"
    }
   ],
   "source": [
    "ax = sns.distplot(FF.month) \n",
    "ax.set_ylabel('proportion') # 1 pts - \"counts\" if plotted a histogram"
   ]
  },
  {
   "cell_type": "markdown",
   "metadata": {},
   "source": [
    "Figure. Histogram of month"
   ]
  },
  {
   "cell_type": "markdown",
   "metadata": {},
   "source": [
    "The distribution is bimodal with a smaller peak in fires in March, and a large one in August / September. ## 2 pts"
   ]
  },
  {
   "cell_type": "markdown",
   "metadata": {},
   "source": [
    "### Question 1.6  (x / 4pts)\n",
    "One important difference between different fires is whether the fire spreads or whether the burn remains completely local. All burns with an area that is larger than 0.0 can be considered to have spread. Define a new variable ('spread') that encodes whether a fire has spread. What percentage of the fires remained local (i.e. area = 0.0)? "
   ]
  },
  {
   "cell_type": "code",
   "execution_count": 6,
   "metadata": {},
   "outputs": [
    {
     "name": "stdout",
     "output_type": "stream",
     "text": [
      "47.78 % of the fires remained local\n"
     ]
    }
   ],
   "source": [
    "# Recode the variable: 2pts\n",
    "FF['spread']=FF.area>0\n",
    "\n",
    "# Calculate proportion: 2 pts\n",
    "proportion_local =  1-np.mean(FF.spread)\n",
    "print(f'{(proportion_local*100).round(2)} % of the fires remained local') "
   ]
  },
  {
   "cell_type": "markdown",
   "metadata": {},
   "source": [
    "### Question 1.7  ( x / 5pts)\n",
    "Create a cross-tabulation of whether the burn has spread and the month of the year during which the fire has been recorded. What is the conditional probability that the fire spread given that it was observed in August?"
   ]
  },
  {
   "cell_type": "code",
   "execution_count": 7,
   "metadata": {},
   "outputs": [
    {
     "name": "stdout",
     "output_type": "stream",
     "text": [
      "spread  False  True \n",
      "month               \n",
      "1           2      0\n",
      "2          10     10\n",
      "3          35     19\n",
      "4           5      4\n",
      "5           1      1\n",
      "6           9      8\n",
      "7          14     18\n",
      "8          85     99\n",
      "9          75     97\n",
      "10         10      5\n",
      "11          1      0\n",
      "12          0      9\n"
     ]
    }
   ],
   "source": [
    "# Make the table 2pts \n",
    "table2 = pd.crosstab(FF.month,FF.spread)\n",
    "print(table2)"
   ]
  },
  {
   "cell_type": "code",
   "execution_count": 8,
   "metadata": {},
   "outputs": [
    {
     "data": {
      "text/plain": [
       "0.5380434782608695"
      ]
     },
     "execution_count": 8,
     "metadata": {},
     "output_type": "execute_result"
    }
   ],
   "source": [
    "# Caluclate and report conditional probability: 3pts\n",
    "99/(85+99)\n"
   ]
  },
  {
   "cell_type": "markdown",
   "metadata": {},
   "source": [
    "The conditional probability p(spread|month = august) is 0.538. "
   ]
  },
  {
   "cell_type": "markdown",
   "metadata": {},
   "source": [
    "### Question 1.8 (x / 5pts)\n",
    "Make a stacked bar plot, showing the month on the x-axis and having split bars for the proportion of fires that spread or stayed local. Which month had the lowest proportion of fires that spread? Which one has the biggest proportion? \n",
    "Do you think these observations indicate that fire spreading varies with the time of month? Justify your answer. "
   ]
  },
  {
   "cell_type": "code",
   "execution_count": 9,
   "metadata": {},
   "outputs": [
    {
     "name": "stdout",
     "output_type": "stream",
     "text": [
      "spread     False     True \n",
      "month                     \n",
      "1       1.000000  0.000000\n",
      "2       0.500000  0.500000\n",
      "3       0.648148  0.351852\n",
      "4       0.555556  0.444444\n",
      "5       0.500000  0.500000\n",
      "6       0.529412  0.470588\n",
      "7       0.437500  0.562500\n",
      "8       0.461957  0.538043\n",
      "9       0.436047  0.563953\n",
      "10      0.666667  0.333333\n",
      "11      1.000000  0.000000\n",
      "12      0.000000  1.000000\n"
     ]
    },
    {
     "data": {
      "text/plain": [
       "Text(0, 0.5, 'Proportion')"
      ]
     },
     "execution_count": 9,
     "metadata": {},
     "output_type": "execute_result"
    },
    {
     "data": {
      "text/plain": [
       "<Figure size 432x288 with 0 Axes>"
      ]
     },
     "metadata": {},
     "output_type": "display_data"
    },
    {
     "data": {
      "image/png": "[encoded data removed]",
      "text/plain": [
       "<Figure size 432x288 with 1 Axes>"
      ]
     },
     "metadata": {
      "needs_background": "light"
     },
     "output_type": "display_data"
    }
   ],
   "source": [
    "# Make the correct table and stacked barplot: 3pts. \n",
    "table2 = pd.crosstab(FF.month,FF.spread,normalize='index')\n",
    "print(table2)\n",
    "fig4   = plt.figure()\n",
    "ax     = table2.plot(kind = 'bar', stacked = True)\n",
    "ax.set_ylabel('Proportion')"
   ]
  },
  {
   "cell_type": "markdown",
   "metadata": {},
   "source": [
    "Figure. Stacked bar plot showing the proportion of fires that spread in each month"
   ]
  },
  {
   "cell_type": "markdown",
   "metadata": {},
   "source": [
    "Lowest : Jan + November \n",
    "Highest: Decemeber (1 pt) \n",
    "\n",
    "These observations do not indicate that the spreading probability reall changes with month - as the numbers of fires in these month are very low (1 or 2). (1pt)"
   ]
  },
  {
   "cell_type": "markdown",
   "metadata": {},
   "source": [
    "### Question 1.9 (x / 8pts)\n",
    "Say you want to test the **Alternative Hypothesis (H_A)** that the danger of a fire spreading changes with the month of the year. Formulate the corresponding Null-hypothesis in terms of the dependence / independence of the variables ('spread') and ('month'). Calculate and report the $\\chi^2$ (Chi-square) statistics to test deviation from this null hypothesis. Show all the code you are using. The Calculatation of the the $\\chi^2$ value should be done with a function, as in the homework assignment. "
   ]
  },
  {
   "cell_type": "markdown",
   "metadata": {},
   "source": [
    "The Null hypothesis states that the variable spread (yes/no) is independent of month. [2pts]"
   ]
  },
  {
   "cell_type": "code",
   "execution_count": 10,
   "metadata": {},
   "outputs": [
    {
     "data": {
      "text/plain": [
       "21.97679706068029"
      ]
     },
     "execution_count": 10,
     "metadata": {},
     "output_type": "execute_result"
    }
   ],
   "source": [
    "# Using a correct modification of the Chi-2 function: 5 pts\n",
    "def calcX2(D):\n",
    "    observed = pd.crosstab(D.spread,D.month, margins=True)\n",
    "    expected = np.outer(observed.iloc[0:2,-1], observed.iloc[-1,0:12]) /observed['All']['All']\n",
    "    observed = pd.crosstab(D.spread,D.month)\n",
    "    return sum(sum((observed.values-expected)**2/expected))\n",
    "\n",
    "calcX2(FF)\n",
    "# Report the correct value: 1 pt. "
   ]
  },
  {
   "cell_type": "markdown",
   "metadata": {},
   "source": [
    "### Question 1.10  (x / 11pts)\n",
    "Conduct a randomization test (using 2000 iterations) to obtain a distribution of the $\\chi^2$-value under the null hypothesis. Plot a histogram of this distribution and show the value you got in the real data with a vertical line. What is the p-value if you rejcted the Null-hypothesis based on this value? Write a sentence to the reader to make clear what this p-value actually means. Show all the code you are using for this. "
   ]
  },
  {
   "cell_type": "code",
   "execution_count": 14,
   "metadata": {},
   "outputs": [
    {
     "data": {
      "text/plain": [
       "0.016"
      ]
     },
     "execution_count": 14,
     "metadata": {},
     "output_type": "execute_result"
    },
    {
     "data": {
      "image/png": "[encoded data removed]",
      "text/plain": [
       "<Figure size 432x288 with 1 Axes>"
      ]
     },
     "metadata": {
      "needs_background": "light"
     },
     "output_type": "display_data"
    }
   ],
   "source": [
    "# The correct function\n",
    "def performRandomization(D,fcn,shuffle,numIterations=500,sides=1, nbins = 10):    \n",
    "    listOfTS =  np.array(range(numIterations),dtype = 'float64')\n",
    "    for i in range(numIterations):\n",
    "        #1. Randomly shuffle the data: \n",
    "        S=D.copy()                    # Make copy of the data frame\n",
    "        x = np.array(range(len(D.index))) # Make copy of the data frame\n",
    "        np.random.shuffle(x)          # randomly shuffle x - note that this changes x itself! \n",
    "        y = S[shuffle].iloc[x]   # copy the newly reorded values into a new Series  \n",
    "        y = y.reset_index(drop=True)   #reoder the indices \n",
    "        S[shuffle]=y           # Copy back into the data frame\n",
    "        \n",
    "        #2. Calculate test statistics \n",
    "        listOfTS[i] = fcn(S)\n",
    "\n",
    "    # 3. Caluclate the real test statistic \n",
    "    realTS = fcn(D)\n",
    "\n",
    "    # 4. Plot a histogram of the stat\n",
    "    plt.hist(listOfTS,bins= nbins)\n",
    "    plt.axvline(x=realTS, color='k')\n",
    "    plt.xlabel('test stat')\n",
    "    \n",
    "    # 5. determine p-value (one sided)\n",
    "    if sides==1: \n",
    "        p=sum(listOfTS>=realTS)/len(listOfTS)\n",
    "    if sides==2:\n",
    "        plt.axvline(x=-realTS, color='r')\n",
    "        p=sum(np.absolute(listOfTS)>=realTS)/len(listOfTS)\n",
    "        print(' P-value of the randomisation test is p= ',p)\n",
    "    return p\n",
    "\n",
    "performRandomization(FF,calcX2,shuffle='month',numIterations=2000, nbins = 10)"
   ]
  },
  {
   "cell_type": "markdown",
   "metadata": {},
   "source": [
    "Grading: \n",
    "4 pts for randomization and plot\n",
    "2 pts for using the correct one-tailed test and positive rejection region. \n",
    "\n",
    "\n",
    "We are rejecting the Null hypothesis with a p-value of 0.0155. (2 pt) \n",
    "\n",
    "This means that, if month and fire spreading were independent, we would have only a chance ~1.55% to obtain the measured $\\chi-2$ value, or a more extreme result.  (3 pts) "
   ]
  },
  {
   "cell_type": "markdown",
   "metadata": {},
   "source": [
    "## Task 2: Forest fire danger over the week\n",
    "\n",
    "### Question 2.1 (x / 5pts)\n",
    "Make a histogram or distribution plot for the day of the week that the fires were recorded. Make sure to label your axes correctly. How would you describe the shape of the distribution? What distribution would you expect if the danger of the a fire was independent of the day of the week? "
   ]
  },
  {
   "cell_type": "code",
   "execution_count": 2,
   "metadata": {},
   "outputs": [
    {
     "ename": "NameError",
     "evalue": "name 'sns' is not defined",
     "output_type": "error",
     "traceback": [
      "\u001b[0;31m---------------------------------------------------------------------------\u001b[0m",
      "\u001b[0;31mNameError\u001b[0m                                 Traceback (most recent call last)",
      "\u001b[0;32m<ipython-input-2-0ec3e55beedc>\u001b[0m in \u001b[0;36m<module>\u001b[0;34m\u001b[0m\n\u001b[0;32m----> 1\u001b[0;31m \u001b[0max\u001b[0m\u001b[0;34m=\u001b[0m \u001b[0msns\u001b[0m\u001b[0;34m.\u001b[0m\u001b[0mdistplot\u001b[0m\u001b[0;34m(\u001b[0m\u001b[0mFF\u001b[0m\u001b[0;34m.\u001b[0m\u001b[0mday\u001b[0m\u001b[0;34m)\u001b[0m\u001b[0;34m\u001b[0m\u001b[0;34m\u001b[0m\u001b[0m\n\u001b[0m\u001b[1;32m      2\u001b[0m \u001b[0max\u001b[0m\u001b[0;34m.\u001b[0m\u001b[0mset_ylabel\u001b[0m\u001b[0;34m(\u001b[0m\u001b[0;34m'proportion'\u001b[0m\u001b[0;34m)\u001b[0m\u001b[0;34m\u001b[0m\u001b[0;34m\u001b[0m\u001b[0m\n",
      "\u001b[0;31mNameError\u001b[0m: name 'sns' is not defined"
     ]
    }
   ],
   "source": [
    "ax= sns.distplot(FF.day)\n",
    "ax.set_ylabel('proportion')"
   ]
  },
  {
   "cell_type": "markdown",
   "metadata": {},
   "source": [
    "Figure. Histogram of day that fires were recorded"
   ]
  },
  {
   "cell_type": "markdown",
   "metadata": {},
   "source": [
    "Figure + label: **1 pts** \n",
    "\n",
    "The overall shape of the distribution approximates a uniform distribution, which is what we would expect under the null-hypothesis of indepedence. (**2 pts**)\n",
    "\n",
    "There seem to be however two modes (or a single mode, if you consider wrap-around) in the distribution with a mid-week dip. (**2 pts**)"
   ]
  },
  {
   "cell_type": "markdown",
   "metadata": {},
   "source": [
    "### Question 2.2 (x / 5pts)\n",
    "The mean of the variable *day* is 4.25, so somewhere between Thursday and Friday. Can you come up with a valid interpretation of the value? Why do we need to be careful in interpreting the value? "
   ]
  },
  {
   "cell_type": "markdown",
   "metadata": {},
   "source": [
    "With a week starting on Monday and ending Sunday, the expected mean would have been 4 for a uniform distribution, so there are more cases towards the end of the week (**2pts**) \n",
    "\n",
    "We need to be careful, as the mean depends on when we consider the week to start - the results would be quite different if we let the week begin on Sunday (**3pts**). "
   ]
  },
  {
   "cell_type": "markdown",
   "metadata": {},
   "source": [
    "### Question 2.3  ( x / 10pts)\n",
    "Write a function, which takes a column of the data frame (pandas.Series or numpy 1d-array) of days (1-7) as an input and returns a $\\chi^2$ statistics that tests the Null hypothesis that all the days of the week have the same probability of occurrence.\n",
    "\n",
    "Report the $\\chi^2$ statistics for the forest fire data. \n",
    "\n",
    "Hint 1: You can get the counts for a single variable A, using the command `FF.day.value_counts()`. Note that these are not sorted by the day of the week but this doesn't matter for the prupose here. \n",
    "\n",
    "Hint 2: Note that the expected counts under this Null hypothsis differ from the the way the expected counts are calculated for the independence of two variables. Under the null hypothesis the probability of a fire is the same for each day. The sum of the expected counts across days should match the total counts in you data set. Once you have the expected counts, the caluclation of the chi-square value stays ths same as for the hypothesis of indepence. "
   ]
  },
  {
   "cell_type": "code",
   "execution_count": 18,
   "metadata": {},
   "outputs": [
    {
     "data": {
      "text/plain": [
       "18.01934235976789"
      ]
     },
     "execution_count": 18,
     "metadata": {},
     "output_type": "execute_result"
    }
   ],
   "source": [
    "# Write a function that computes the Chi-square value\n",
    "# `day` is a vector or data Series of observations for the day\n",
    "def calcX2_uniform(day):\n",
    "    observed = day.value_counts() # Correct observed 2 pts\n",
    "    expected = np.ones(7)*np.sum(observed)/7 # Correct expected 3 pts \n",
    "    return sum((observed-expected)**2/expected)# Correct chi-square: 2 pts\n",
    "\n",
    "calcX2_uniform(FF.day) # Correct value on data 3pts\n"
   ]
  },
  {
   "cell_type": "markdown",
   "metadata": {},
   "source": [
    "### Question 2.4 (x / 10pts)\n",
    "To test the Null-hypothesis, we also need the distribution of the $\\chi^2$ statistics under the null hypothesis. To obtain this, conduct a **Monte-Carlo** simulation (not a randomization test). In each iteration of the montecarlo simulation, generate 517 simulated fires and randomly determine (with equal probability) which day they occurred on. For each of the artificial data sets, calculate the $\\chi2$-value using your function from Question 2.3. Run the function for 10000 interations. Plot a histogram of the $\\chi2$-values and mark the observed value with a vertical line. With what p-value can you reject the Null hypothesis that fires occurr equally often for each day of the week? Give one possible reason for the Null-hypothessis not being true.  \n",
    "\n",
    "Hint 1: To generate a pandas data series with 517 random numbers between the values of 1-7, you can use the following command: \n",
    "\n",
    "`pd.Series(np.random.choice(7,517)+1)`\n",
    "\n",
    "Hint 2: If you could not solve Question 2.3, simply use np.sum(day) as your test statistics and still proceed with the other parts of the question. "
   ]
  },
  {
   "cell_type": "code",
   "execution_count": 19,
   "metadata": {},
   "outputs": [
    {
     "data": {
      "text/plain": [
       "0.0078"
      ]
     },
     "execution_count": 19,
     "metadata": {},
     "output_type": "execute_result"
    },
    {
     "data": {
      "image/png": "[encoded data removed]",
      "text/plain": [
       "<Figure size 432x288 with 1 Axes>"
      ]
     },
     "metadata": {
      "needs_background": "light"
     },
     "output_type": "display_data"
    }
   ],
   "source": [
    "# Write a function that performs a montecarlo study \n",
    "def performMonteCarlo(real_day,numIterations):\n",
    "    # 1. Initialize np-array of test statistics [1pt]\n",
    "    listOfTS =  np.array(range(numIterations),dtype = 'float64')\n",
    "    # 2. Loop over numInterations  [1pt]\n",
    "    for i in range(numIterations):\n",
    "        #3. Generate new artifical data   [1pt]\n",
    "        fake_day = pd.Series(np.random.choice(7,517)+1)\n",
    "        #4. Calculate test statistics  [1pt]\n",
    "        listOfTS[i] = calcX2_uniform(fake_day)\n",
    "\n",
    "    # 5. Calculate the real test statistic  [1pt]\n",
    "    realTS = calcX2_uniform(real_day)\n",
    "\n",
    "    # 6. Plot a histogram of the test statistics  [1pt]\n",
    "    plt.hist(listOfTS,bins= 7)\n",
    "    plt.axvline(x=realTS, color='k')\n",
    "    plt.xlabel('test statistic')\n",
    "    \n",
    "    # 7. determine p-value[1pt]\n",
    "    p=sum(listOfTS>=realTS)/len(listOfTS)\n",
    "    return p\n",
    "\n",
    "performMonteCarlo(FF.day,10000)"
   ]
  },
  {
   "cell_type": "markdown",
   "metadata": {},
   "source": [
    "Figure. Histogram of the chi-squared test statistic"
   ]
  },
  {
   "cell_type": "markdown",
   "metadata": {},
   "source": [
    "We can reject the null hyothesis with a p-value of p=0.0065 - thus a deviation from equal counts as observed is highly unlikely under the null. [1pts]\n",
    "\n",
    "One possible explanation for the higher fire danger in the weekend is that more visitors are in the park, who may make bon-fires, bbq, or through cigarette stubs out of a car-window. [2pts] "
   ]
  },
  {
   "cell_type": "markdown",
   "metadata": {},
   "source": [
    "# Task 3\n",
    "### Question 3.1 (x / 5pts)\n",
    "The data indicate that, while most fires occurr as expected in the late summer, fires in the month of March are also quite frequent - more frequent than in May. One researcher suggests that this is because March was especially dry over the years this data was recored. To study changes in humidity over the year, make a box plot of the `month` on the x-axis and relative humidity (`RH`) on the y-axis . Based on the plot, was the 3rd quartile (75% percentile) of oberservations from March below or above the 1st quartile (25% percentile) for the observations in May? Which of the 2 month had the highest individual humidity reading? "
   ]
  },
  {
   "cell_type": "code",
   "execution_count": 14,
   "metadata": {},
   "outputs": [
    {
     "data": {
      "text/plain": [
       "<AxesSubplot:xlabel='month', ylabel='RH'>"
      ]
     },
     "execution_count": 14,
     "metadata": {},
     "output_type": "execute_result"
    },
    {
     "data": {
      "image/png": "[encoded data removed]",
      "text/plain": [
       "<Figure size 432x288 with 1 Axes>"
      ]
     },
     "metadata": {
      "needs_background": "light"
     },
     "output_type": "display_data"
    }
   ],
   "source": [
    "sns.boxplot(FF.month,FF.RH) # 1 pts "
   ]
  },
  {
   "cell_type": "markdown",
   "metadata": {},
   "source": [
    "Figure. Boxplot of relative humidity split by month"
   ]
  },
  {
   "cell_type": "markdown",
   "metadata": {},
   "source": [
    "Q3 for march was lower than Q1 for May. # 2 pts \n",
    "\n",
    "The highest value were observed for March. # 2 pts "
   ]
  },
  {
   "cell_type": "markdown",
   "metadata": {},
   "source": [
    "### Question 3.2  (x / 5 pts)\n",
    "The researcher would like to test the idea that March had significantly lower humidity readings than May. Formulate the alternative and the corresponding null hypothesis. To test this idea, do you need to conduct a 1-sided or 2-sided test?"
   ]
  },
  {
   "cell_type": "markdown",
   "metadata": {},
   "source": [
    "H1 = March has lower humidity values than May # *2 pts*\n",
    "\n",
    "H0 = May has equal or lower humidity than March # *2 pts*\n",
    "\n",
    "One-sided test # * 1 pts*"
   ]
  },
  {
   "cell_type": "markdown",
   "metadata": {},
   "source": [
    "### Question 3.3 (x / 9pts)\n",
    "Conduct a randomization test on the hypothesis from Question 3.2. For this prupose, first write a function that takes a data-frame as an input and returns the difference in mean humidity of March and May (RH_March - RH_May) as the result. Use this value as your test statistics. For the randomization test, use the entire data set and shuffle either the month or relative humidity. Plot a histogram of the test statistics under the null-hypothesis and mark the real value with a vertical line. If you reject the null-hypothesis, what is your p-value?  "
   ]
  },
  {
   "cell_type": "code",
   "execution_count": 16,
   "metadata": {},
   "outputs": [
    {
     "data": {
      "text/plain": [
       "0.014"
      ]
     },
     "execution_count": 16,
     "metadata": {},
     "output_type": "execute_result"
    },
    {
     "data": {
      "image/png": "[encoded data removed]",
      "text/plain": [
       "<Figure size 432x288 with 1 Axes>"
      ]
     },
     "metadata": {
      "needs_background": "light"
     },
     "output_type": "display_data"
    }
   ],
   "source": [
    "# Write the function that returns test statistics [4pts]\n",
    "def meanDiff(D):\n",
    "    return np.mean(D.RH[D.month==3])-np.mean(D.RH[D.month==5])\n",
    "    \n",
    "# Choose the right function for randomization and modify as needed [3pts]\n",
    "def performRandomization(D,fcn,shuffle,numIterations=500,sides=1, nbins = 10):    \n",
    "    listOfTS =  np.array(range(numIterations),dtype = 'float64')\n",
    "    for i in range(numIterations):\n",
    "        #1. Randomly shuffle the data \n",
    "        S=D.copy()                    # Make copy of the data frame\n",
    "        x = np.array(range(len(D.index))) # Make copy of the data frame\n",
    "        np.random.shuffle(x)          # randomly shuffle x - note that this changes x itself! \n",
    "        y = S[shuffle].iloc[x]   # copy the newly reorded values into a new Series  \n",
    "        y = y.reset_index(drop=True)   #reoder the indices \n",
    "        S[shuffle]=y           # Copy back into the data frame\n",
    "        \n",
    "        #2. Calculate test statistics \n",
    "        listOfTS[i] = fcn(S)\n",
    "\n",
    "    # 3. Caluclate the real test statistic \n",
    "    realTS = fcn(D)\n",
    "\n",
    "    # 4. Plot a histogram of the \n",
    "    plt.hist(listOfTS,bins= nbins)\n",
    "    plt.axvline(x=realTS, color='k')\n",
    "    plt.xlabel('test statistic')\n",
    "    \n",
    "    # 5. determine p-value (one sided)\n",
    "    p=sum(listOfTS<=realTS)/len(listOfTS)\n",
    "    return p\n",
    "\n",
    "\n",
    "    \n",
    "performRandomization(FF,meanDiff,'month')"
   ]
  },
  {
   "cell_type": "markdown",
   "metadata": {},
   "source": [
    "Figure. Histogram of differences between mean (test statistic)"
   ]
  },
  {
   "cell_type": "markdown",
   "metadata": {},
   "source": [
    "We can reject the Null hypothesis with a p-value of 0.018. [2pts]"
   ]
  },
  {
   "cell_type": "markdown",
   "metadata": {},
   "source": [
    "### Question 3.4 (x / 4pts)\n",
    "Assuming that the result of Question 3.3 indeed indicates that March showed a lower humidity than May, the researcher would like to argue that this effect is the cause that more forest fires occur in March than in May. Why do we need to be careful with this claim? "
   ]
  },
  {
   "cell_type": "markdown",
   "metadata": {},
   "source": [
    "It's a causal claim and you cannot show causality from observational data. (2 pts) \n",
    "\n",
    "Although the claim sounds reasonable there may be other differences between March and May that may have caused the difference.  (2 pts)"
   ]
  }
 ],
 "metadata": {
  "kernelspec": {
   "display_name": "Python 3",
   "language": "python",
   "name": "python3"
  },
  "language_info": {
   "codemirror_mode": {
    "name": "ipython",
    "version": 3
   },
   "file_extension": ".py",
   "mimetype": "text/x-python",
   "name": "python",
   "nbconvert_exporter": "python",
   "pygments_lexer": "ipython3",
   "version": "3.7.1"
  }
 },
 "nbformat": 4,
 "nbformat_minor": 5
}
