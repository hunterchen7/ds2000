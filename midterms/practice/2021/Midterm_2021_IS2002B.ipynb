{
 "cells": [
  {
   "cell_type": "markdown",
   "metadata": {},
   "source": [
    "# Midterm - SS 3850G / CS 4414B\n",
    "\n",
    "## Student ID: XXXXXXXXX (XX / 100)\n",
    "\n",
    "## General comments\n",
    "\n",
    "This Midterm integrates knowledge and skills acquired in the first half of the semester, especially in the first six Assignments. You are allowed to use any document and source on your computer and look up documents on the internet. **You are NOT allowed to share documents, or communicate in any other way with people inside or outside the class during the midterm.** To finish the midterm in the alloted 3 hrs, you will have to work efficiently. **Read the entirety of each question carefully.** \n",
    "\n",
    "You need to submit the midterm by the due date (13:30) on OWL under Assignments/Midterm. Late submission will be scored with 0 pts, unless you have received extra accommadation. So please start your submission five minutes before the deadline!  \n",
    "\n",
    "### Additional Guidance\n",
    "\n",
    "The midterm is supposed to challengeing. If you get stuck on a particular question because you can't solve a programming problem, just write down in text *how* you would try to solve the problem - if correct this can give you partial points. Then continue the other parts of the question, the next question, or next task. If you can only answer a question if you have solve the previous problem, just *assume* some outcome and answer the question under that assumption. If you do this, make your assumptions explicit. \n",
    "\n",
    "Read all the questions carefully. Each questions demands a written answer as part of it. These need to be spelled out in a whole English sentence. "
   ]
  },
  {
   "cell_type": "code",
   "execution_count": null,
   "metadata": {},
   "outputs": [],
   "source": [
    "## Preliminaries\n",
    "# Sets up the environment by importing \n",
    "# pandas, numpy, matplotlib, and seaborn. \n",
    "\n",
    "### You are not allowed to rely on any other packages or modules.  \n",
    "\n",
    "import matplotlib\n",
    "import matplotlib.pyplot as plt \n",
    "%matplotlib inline\n",
    "\n",
    "import pandas as pd \n",
    "import numpy as np\n",
    "import seaborn as sns\n"
   ]
  },
  {
   "cell_type": "markdown",
   "metadata": {},
   "source": [
    "## Data set\n",
    "\n",
    "In 2007, Paulo Cortés and Aníbal Morais, at the University of Minho in Portugal, studied the use of data science techniques to tackle the challenging problem of forest fire prediction. They described their work as follows:\n",
    "\n",
    "\"Forest fires are a major environmental issue, creating economical andecological damage while endangering human lives. A good understanding of the risk factors and factor influencing the occurence of fires is therefore essential.\" \n",
    "\n",
    "In general, forest fire risks are measured using the Canadian Forest Fire Weather Index (FFWI) for rating forest fire danger. You are provided with a dataset from the Montesinho natural park, from the Tras-os-Montes northeast region of Portugal. The data used in the experiments was collected from January 2000 to December 2003. At a daily basis, every time a forest fire occurred, several features were collected such as the time, date, spatial location within a 9×9 grid and the type of vegetation involved, four components of the FWI system and the total burned area, and complemented with several weather observations (e.g. wind speed) recorded at the time of the event. The detailed variables are:\n",
    "\n",
    "1. X - x-axis spatial coordinate within the Montesinho park map: 1 to 9\n",
    "2. Y - y-axis spatial coordinate within the Montesinho park map: 2 to 9\n",
    "3. month - month of the year: 'jan = 1 ' to 'dec = 12'\n",
    "4. day - day of the week: 'mon = 1' to 'sun = 7'\n",
    "5. FFMC - FFMC (Rain, Temperature, Wind and Humidity relationship) index from the FFWI system: 18.7 to 96.20\n",
    "6. DMC - DMC (Rain, Temperature,and Humidity relationship) index from the FFWI system: 1.1 to 291.3\n",
    "7. DC - DC (Rain and Temperature relationship) index from the FFWI system: 7.9 to 860.6\n",
    "8. ISI - ISI (Wind speed risk) index from the FWI system: 0.0 to 56.10\n",
    "9. temp - temperature in Celsius degrees: 2.2 to 33.30\n",
    "10. RH - relative humidity in %: 15.0 to 100\n",
    "11. wind - wind speed in km/h: 0.40 to 9.40\n",
    "12. rain - outside rain in mm/m2 : 0.0 to 6.4\n",
    "13. area - the burned area of the forest (in ha): 0.00 to 1090.84. Note that most burns remained localized (ie. area = 0.00).\n",
    "\n",
    "With this information, answer the following questions using your knowledge of the course.\n"
   ]
  },
  {
   "cell_type": "markdown",
   "metadata": {},
   "source": [
    "## Task 1: The yearly cycle of forest fires \n",
    "\n",
    "### Question 1.1  (x/ 2 pts)\n",
    "\n",
    "Load the data. How many cases/observations do you have in your data frame? "
   ]
  },
  {
   "cell_type": "code",
   "execution_count": null,
   "metadata": {},
   "outputs": [],
   "source": []
  },
  {
   "cell_type": "markdown",
   "metadata": {},
   "source": [
    "Written answer: "
   ]
  },
  {
   "cell_type": "markdown",
   "metadata": {},
   "source": [
    "### Question 1.2 (x/3pts)\n",
    "Plot a histogram of the dependent variable ('area'). Make sure the axes are labeled. How would you describe the distribution? "
   ]
  },
  {
   "cell_type": "code",
   "execution_count": null,
   "metadata": {},
   "outputs": [],
   "source": []
  },
  {
   "cell_type": "markdown",
   "metadata": {},
   "source": [
    "Written answer: "
   ]
  },
  {
   "cell_type": "markdown",
   "metadata": {},
   "source": [
    "### Question 1.3 (x/2pts)\n",
    "What measurement scale does area have? "
   ]
  },
  {
   "cell_type": "raw",
   "metadata": {},
   "source": [
    "Written answer:"
   ]
  },
  {
   "cell_type": "markdown",
   "metadata": {},
   "source": [
    "### Question 1.4 (x/4pts)\n",
    "If you wanted to to characterize the typical burn size for each month of the year, would you use the mean or median?\n",
    "What would be one argument for using the median? \n",
    "What would be one argument for using the mean? "
   ]
  },
  {
   "cell_type": "markdown",
   "metadata": {},
   "source": [
    "Written answer: "
   ]
  },
  {
   "cell_type": "markdown",
   "metadata": {},
   "source": [
    "### Question 1.5 (x/3pts)\n",
    "Make a histogram or distribution plot for the month of the year that the fires were recorded. Make sure to label your axes correctly. How would you describe the shape of the distribution? "
   ]
  },
  {
   "cell_type": "code",
   "execution_count": null,
   "metadata": {},
   "outputs": [],
   "source": []
  },
  {
   "cell_type": "markdown",
   "metadata": {},
   "source": [
    "Written answer: "
   ]
  },
  {
   "cell_type": "markdown",
   "metadata": {},
   "source": [
    "### Question 1.6  (x / 4pts)\n",
    "One important difference between different fires is whether the fire spreads or whether the burn remains completely local. All burns with an area that is larger than 0.0 can be considered to have spread. Define a new variable ('spread') that encodes whether a fire has spread. What percentage of the fires remained local (i.e. area = 0.0)? "
   ]
  },
  {
   "cell_type": "code",
   "execution_count": null,
   "metadata": {},
   "outputs": [],
   "source": []
  },
  {
   "cell_type": "markdown",
   "metadata": {},
   "source": [
    "Written answer:"
   ]
  },
  {
   "cell_type": "markdown",
   "metadata": {},
   "source": [
    "### Question 1.7  ( x / 5pts)\n",
    "Create a cross-tabulation of whether the burn has spread and the month of the year during which the fire has been recorded. What is the conditional probability that the fire spread given that it was observed in August?"
   ]
  },
  {
   "cell_type": "code",
   "execution_count": null,
   "metadata": {},
   "outputs": [],
   "source": []
  },
  {
   "cell_type": "markdown",
   "metadata": {},
   "source": [
    "Written answer: "
   ]
  },
  {
   "cell_type": "markdown",
   "metadata": {},
   "source": [
    "### Question 1.8 (x / 5pts)\n",
    "Make a stacked bar plot, showing the month on the x-axis and having split bars for the proportion of fires that spread or stayed local. Which month had the lowest proportion of fires that spread? Which one has the biggest proportion? \n",
    "Do you think these observations indicate that fire spreading varies with the time of month? Justify your answer. "
   ]
  },
  {
   "cell_type": "code",
   "execution_count": null,
   "metadata": {},
   "outputs": [],
   "source": []
  },
  {
   "cell_type": "markdown",
   "metadata": {},
   "source": [
    "Written answer: "
   ]
  },
  {
   "cell_type": "markdown",
   "metadata": {},
   "source": [
    "### Question 1.9 (x / 8pts)\n",
    "Say you want to test the **Alternative Hypothesis (H_A)** that the danger of a fire spreading changes with the month of the year. Formulate the corresponding Null-hypothesis in terms of the dependence / independence of the variables ('spread') and ('month'). Calculate and report the $\\chi^2$ (Chi-square) statistics to test deviation from this null hypothesis. Show all the code you are using. The Calculatation of the the $\\chi^2$ value should be done with a function, as in the homework assignment. "
   ]
  },
  {
   "cell_type": "markdown",
   "metadata": {},
   "source": [
    "Formulate he null hypothesis\n",
    "\n",
    "Written answer: "
   ]
  },
  {
   "cell_type": "code",
   "execution_count": null,
   "metadata": {},
   "outputs": [],
   "source": [
    "# Write a function that calculates the Chi-2 value on a data frame\n",
    "\n",
    "\n",
    "# Calculate and print out the Chi-2 value for the forest fire data. "
   ]
  },
  {
   "cell_type": "markdown",
   "metadata": {},
   "source": [
    "### Question 1.10  (x / 11pts)\n",
    "Conduct a randomization test (using 2000 iterations) to obtain a distribution of the $\\chi^2$-value under the null hypothesis. Plot a histogram of this distribution and show the value you got in the real data with a vertical line. What is the p-value if you rejcted the Null-hypothesis based on this value? Write a sentence to the reader to make clear what this p-value actually means. Show all the code you are using for this. "
   ]
  },
  {
   "cell_type": "code",
   "execution_count": null,
   "metadata": {},
   "outputs": [],
   "source": [
    "# Define your function that performs the randomization test and call it\n"
   ]
  },
  {
   "cell_type": "markdown",
   "metadata": {},
   "source": [
    "Report the p-value and provide an explanation what the p-value means\n",
    "\n",
    "Written answer: "
   ]
  },
  {
   "cell_type": "markdown",
   "metadata": {},
   "source": [
    "## Task 2: Forest fire danger over the week\n",
    "\n",
    "### Question 2.1 (x / 5pts)\n",
    "Make a histogram or distribution plot for the day of the week that the fires were recorded. Make sure to label your axes correctly. How would you describe the shape of the distribution? What distribution would you expect if the danger of the a fire was independent of the day of the week? "
   ]
  },
  {
   "cell_type": "code",
   "execution_count": null,
   "metadata": {},
   "outputs": [],
   "source": []
  },
  {
   "cell_type": "markdown",
   "metadata": {},
   "source": [
    "Written answer:"
   ]
  },
  {
   "cell_type": "markdown",
   "metadata": {},
   "source": [
    "### Question 2.2 (x / 5pts)\n",
    "The mean of the variable *day* is 4.25, so somewhere between Thursday and Friday. Can you come up with a valid interpretation of the value? Why do we need to be careful in interpreting the value? "
   ]
  },
  {
   "cell_type": "markdown",
   "metadata": {},
   "source": [
    "Written answer: "
   ]
  },
  {
   "cell_type": "markdown",
   "metadata": {},
   "source": [
    "### Question 2.3  ( x / 10pts)\n",
    "Write a function, which takes a column of the data frame (pandas.Series or numpy 1d-array) of days (1-7) as an input and returns a $\\chi^2$ statistics that tests the Null hypothesis that all the days of the week have the same probability of occurrence.\n",
    "\n",
    "Report the $\\chi^2$ statistics for the forest fire data. \n",
    "\n",
    "Hint 1: You can get the counts for a single variable A, using the command `FF.day.value_counts()`. Note that these are not sorted by the day of the week but this doesn't matter for the prupose here. \n",
    "\n",
    "Hint 2: Note that the expected counts under this Null hypothsis differ from the the way the expected counts are calculated for the independence of two variables. Under the null hypothesis the probability of a fire is the same for each day. The sum of the expected counts across days should match the total counts in you data set. Once you have the expected counts, the caluclation of the chi-square value stays ths same as for the hypothesis of indepence. "
   ]
  },
  {
   "cell_type": "code",
   "execution_count": null,
   "metadata": {},
   "outputs": [],
   "source": [
    "# Write a function that returns the Chi-square value against the hypothesis that all days are equally likely.\n",
    "# `day` is a vector or data Series of observations for the day\n",
    "def calcX2_uniform(day):\n",
    "    \n",
    "    \n",
    "# Call the function with the column `day` in you data frame \n"
   ]
  },
  {
   "cell_type": "markdown",
   "metadata": {},
   "source": [
    "### Question 2.4 (x / 10pts)\n",
    "To test the Null-hypothesis, we also need the distribution of the $\\chi^2$ statistics under the null hypothesis. To obtain this, conduct a **Monte-Carlo** simulation (not a randomization test). In each iteration of the montecarlo simulation, generate 517 simulated fires and randomly determine (with equal probability) which day they occurred on. For each of the artificial data sets, calculate the $\\chi2$-value using your function from Question 2.3. Run the function for 10000 interations. Plot a histogram of the $\\chi2$-values and mark the observed value with a vertical line. With what p-value can you reject the Null hypothesis that fires occurr equally often for each day of the week? Give one possible reason for the Null-hypothessis not being true.  \n",
    "\n",
    "Hint 1: To generate a pandas data series with 517 random numbers between the values of 1-7, you can use the following command: \n",
    "\n",
    "`pd.Series(np.random.choice(7,517)+1)`\n",
    "\n",
    "Hint 2: If you could not solve Question 2.3, simply use np.sum(day) as your test statistics and still proceed with the other parts of the question. "
   ]
  },
  {
   "cell_type": "code",
   "execution_count": null,
   "metadata": {},
   "outputs": [],
   "source": [
    "# Write a function that performs a montecarlo study \n",
    "def performMonteCarlo(real_day,numIterations):\n",
    "    # 1. Initialize 1d-np-array of test statistics \n",
    "    # ..... \n",
    "    # 2. Loop over numInterations  \n",
    "        # ....\n",
    "        #3. Generate new artifical vector of days ....\n",
    "        # .... \n",
    "        #4. Calculate and record the test statistics\n",
    "        # .... \n",
    "\n",
    "    # 5. Calculate the test statistic on real day  \n",
    "    # ... \n",
    "\n",
    "    # 6. Plot a histogram of the test statistics  with a line for the real value \n",
    "    # ...\n",
    "    \n",
    "    # 7. determine and return th p-value\n",
    "    # .... \n",
    "    \n",
    "# Now run the function with 10000 iterations. \n",
    "# ... "
   ]
  },
  {
   "cell_type": "markdown",
   "metadata": {},
   "source": [
    "Written answer:"
   ]
  },
  {
   "cell_type": "markdown",
   "metadata": {},
   "source": [
    "# Task 3\n",
    "### Question 3.1 (x / 5pts)\n",
    "The data indicate that, while most fires occurr as expected in the late summer, fires in the month of March are also quite frequent - more frequent than in May. One researcher suggests that this is because March was especially dry over the years this data was recored. To study changes in humidity over the year, make a box plot of the `month` on the x-axis and relative humidity (`RH`) on the y-axis . Based on the plot, was the 3rd quartile (75% percentile) of oberservations from March below or above the 1st quartile (25% percentile) for the observations in May? Which of the 2 month had the highest individual humidity reading? "
   ]
  },
  {
   "cell_type": "code",
   "execution_count": null,
   "metadata": {},
   "outputs": [],
   "source": []
  },
  {
   "cell_type": "markdown",
   "metadata": {},
   "source": [
    "Written answer: "
   ]
  },
  {
   "cell_type": "markdown",
   "metadata": {},
   "source": [
    "### Question 3.2  (x / 5 pts)\n",
    "The researcher would like to test the idea that March had significantly lower humidity readings than May. Formulate the alternative and the corresponding null hypothesis. To test this idea, do you need to conduct a 1-sided or 2-sided test?"
   ]
  },
  {
   "cell_type": "markdown",
   "metadata": {},
   "source": [
    "Written answer: "
   ]
  },
  {
   "cell_type": "markdown",
   "metadata": {},
   "source": [
    "### Question 3.3 (x / 9pts)\n",
    "Conduct a randomization test on the hypothesis from Question 3.2. For this prupose, first write a function that takes a data-frame as an input and returns the difference in mean humidity of March and May (RH_March - RH_May) as the result. Use this value as your test statistics. For the randomization test, use the entire data set and shuffle either the month or relative humidity. Plot a histogram of the test statistics under the null-hypothesis and mark the real value with a vertical line. If you reject the null-hypothesis, what is your p-value?  "
   ]
  },
  {
   "cell_type": "code",
   "execution_count": 4,
   "metadata": {},
   "outputs": [],
   "source": [
    "# Write the function that returns test statistics (mean differences)\n",
    "# ... \n",
    "\n",
    "# Choose the right function for randomization and modify as needed \n",
    "# ... \n",
    "\n",
    "# Perform the randomization test \n",
    "# ... "
   ]
  },
  {
   "cell_type": "markdown",
   "metadata": {},
   "source": [
    "Written answer: "
   ]
  },
  {
   "cell_type": "markdown",
   "metadata": {},
   "source": [
    "### Question 3.4 (x / 4pts)\n",
    "Assuming that the result of Question 3.3 indeed indicates that March showed a lower humidity than May, the researcher would like to argue that this effect is the cause that more forest fires occur in March than in May. Why do we need to be careful with this claim? "
   ]
  },
  {
   "cell_type": "markdown",
   "metadata": {},
   "source": [
    "Written answer: "
   ]
  },
  {
   "cell_type": "code",
   "execution_count": null,
   "metadata": {},
   "outputs": [],
   "source": []
  }
 ],
 "metadata": {
  "kernelspec": {
   "display_name": "Python 3",
   "language": "python",
   "name": "python3"
  },
  "language_info": {
   "codemirror_mode": {
    "name": "ipython",
    "version": 3
   },
   "file_extension": ".py",
   "mimetype": "text/x-python",
   "name": "python",
   "nbconvert_exporter": "python",
   "pygments_lexer": "ipython3",
   "version": "3.7.1"
  }
 },
 "nbformat": 4,
 "nbformat_minor": 5
}
