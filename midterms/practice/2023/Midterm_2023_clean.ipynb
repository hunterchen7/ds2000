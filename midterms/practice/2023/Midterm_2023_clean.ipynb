{
 "cells": [
  {
   "attachments": {},
   "cell_type": "markdown",
   "id": "14bc799a",
   "metadata": {},
   "source": [
    "# Midterm - DS2000B and IS2002B\n",
    "\n",
    "## Student ID: XXXXXXXXX (XX / 100)\n",
    "\n",
    "## General comments\n",
    "\n",
    "This Midterm integrates knowledge and skills acquired in the first half of the semester, especially in the first six Assignments. You are allowed to use any document and source on your computer and look up documents on the internet. **You are NOT allowed to documents that are shared - i.e. on google docs or dropbox - or communicate in any other way with anyone (real or AI-agent such as chatGPT) inside or outside the class during the midterm.** To finish the midterm in the alloted 1hr and 50min, you will have to work efficiently. **Read the entirety of each question carefully.** \n",
    "\n",
    "You need to submit the midterm by the due date (12:20) on OWL under Assignments/Midterm. Late submission will be scored with 0 pts, unless you have received extra accommadation. So please start your submission five minutes before the deadline!  \n",
    "\n",
    "### Additional Guidance\n",
    "\n",
    "The midterm is supposed to be challenging. If you get stuck on a particular question because you can't solve a programming problem, just write down in text *how* you would try to solve the problem - if correct this can give you partial points. Then continue the other parts of the question, the next question, or next task. The midterm is designed, such that the solutions do not require that the previous question is solved correctly. \n",
    "If you need the solution from a previous problem, just *assume* some outcome and answer the question under that assumption. If you do this, make your assumptions explicit. \n",
    "\n",
    "Read all the questions carefully. Each questions demands a written answer as part of it. These need to be spelled out in a whole English sentence. "
   ]
  },
  {
   "cell_type": "code",
   "execution_count": 1,
   "id": "6ab035cf",
   "metadata": {},
   "outputs": [],
   "source": [
    "## Preliminaries\n",
    "# Sets up the environment by importing \n",
    "# pandas, numpy, matplotlib, and seaborn. \n",
    "\n",
    "### You are not allowed to rely on any other packages or modules.  \n",
    "\n",
    "import matplotlib\n",
    "import matplotlib.pyplot as plt \n",
    "\n",
    "import pandas as pd \n",
    "import numpy as np\n",
    "import seaborn as sb\n",
    "import scipy.stats as ss"
   ]
  },
  {
   "attachments": {},
   "cell_type": "markdown",
   "id": "a93311e8",
   "metadata": {},
   "source": [
    "## Data set\n",
    "Transcranial direct current stimulation (tDCS) is a form of electrical brain stimulation. It send a weak electric current through the brain. tDCS is thought to increase brain plasticity if it is applied during behavioral training  \n",
    "\n",
    "In 2012, our lab conducted a study looking at the causal effect of tDCS during motor sequence learning. Participant where a ad-hoc sample from the undergraduate population at UCL (University College London). Participants had to type out sequences of 5 numbers as fast as possible on a keyboard. First, they were tested before training (pre-test). We recorded both average movement time (MT), i.e. how many seconds they required to complete the 5 key presses, and the proportion of trials with an error (Error). To reduce the differences in preexisting performance, we decided to admit only participants that could do the task at pretest reasonably well (Movement time < 3.6s) to the main study. This led to the exclusion of 15 participants (not in the dataset).\n",
    "\n",
    "Half of these participants were randomly assigned to a experimental group, and the other half to the control group. We decided to block for gender in this experiment, but no other variable. All participants trained the task for 4 consecutive days for 60min each with the left hand. During training, we attached two electrodes to their head. For the experimental group a current was sent between electrodes. The control group received only a brief stimulation, so they also experienced the initial tingle on the scalp, but after that the current was switched off. When interviewed afterwards, participants were not better at chance at guessing whether they were assigned to the tDCS or Control group.  \n",
    "\n",
    "The Data frame contains the following variables. \n",
    "\n",
    "1. SN - Subject Number \n",
    "2. age - Age of the Subject at time of testing in years \n",
    "3. gender - Gender of subject: 'F':female or 'M':male \n",
    "4. hand - performing hand 1=left 2=right (you have only left hand data here)\n",
    "5. tDCS - 1 = Experimental group, 0 = control group  \n",
    "5. Error_pre: Proportion of error trials at pre-test \n",
    "6. Error_post: Proportion of error trials at post-test\n",
    "7. MT_pre: average Movement time at pre-test  \n",
    "8. MT_post: average Movement time at post-test\n",
    "\n",
    "**REFERENCE**: \n",
    "Waters-Metenier, S., Husain, M., Wiestler, T., & Diedrichsen, J. (2014) Bihemispheric tDCS enhances effector-independent representations of motor synergy and sequence learning. Journal of Neuroscience.\n",
    "\n",
    "All details required to answer this midterm are given in this Jupyter notebook - no information from the (more complex) original study is required. \n",
    "\n",
    "\n",
    "**WARNING**: While this is a real result and has been replicated a number of times, other studies have found smaller or no effect of tDCS on motor learning. Therefore the overall efficacy of this treatment is still a matter of debate. Also, tDCS is only safe when applied with medically approved equipment and by trained personnel - so please do not try this at home.    "
   ]
  },
  {
   "attachments": {},
   "cell_type": "markdown",
   "id": "629cd423",
   "metadata": {},
   "source": [
    "## Task 1: Descriptors  "
   ]
  },
  {
   "attachments": {},
   "cell_type": "markdown",
   "id": "7609e587",
   "metadata": {},
   "source": [
    "### Question 1.1 (5 pts)\n",
    "Load the data file `tDCS_study_data.csv`. Find the participant with the slowest movement time at pre-test (MT_pre) and print out the corresponding row of the data frame),\n",
    "\n",
    "*Written answer*: report their MT_pre, their age, and gender (in a full English sentence)"
   ]
  },
  {
   "cell_type": "code",
   "execution_count": null,
   "id": "992eae52",
   "metadata": {},
   "outputs": [],
   "source": []
  },
  {
   "attachments": {},
   "cell_type": "markdown",
   "id": "c3504252",
   "metadata": {},
   "source": []
  },
  {
   "attachments": {},
   "cell_type": "markdown",
   "id": "0de7114b",
   "metadata": {},
   "source": [
    "### Question 1.2 (7 pts)\n",
    "Print a table that shows the number of males and females participants assigned to the Experimental (tDCS) and Control group respectively. (3pts)\n",
    "\n",
    "*Written answer*: What is the cause of this particular distribution of males / females across the two groups? (4pts)\n",
    "\n",
    "*Hint*: see description of dataset for possible clues"
   ]
  },
  {
   "cell_type": "code",
   "execution_count": null,
   "id": "7eddfd22",
   "metadata": {},
   "outputs": [],
   "source": []
  },
  {
   "attachments": {},
   "cell_type": "markdown",
   "id": "7b002721",
   "metadata": {},
   "source": []
  },
  {
   "attachments": {},
   "cell_type": "markdown",
   "id": "665d3881",
   "metadata": {},
   "source": [
    "### Question 1.3 (7pts)\n",
    "Plot a histogram of the pretest-MT using 9 bins\n",
    "\n",
    "*Written answer*: How would describe the shape of the distribution? What may be the reason for this particular shape of the distribution?\n",
    "\n",
    "*Hint*: see description of dataset for possible clues\n",
    "\n"
   ]
  },
  {
   "cell_type": "code",
   "execution_count": null,
   "id": "983c41d3",
   "metadata": {},
   "outputs": [],
   "source": []
  },
  {
   "attachments": {},
   "cell_type": "markdown",
   "id": "504db8c7",
   "metadata": {},
   "source": []
  },
  {
   "attachments": {},
   "cell_type": "markdown",
   "id": "aafb0d50",
   "metadata": {},
   "source": [
    "### Question 1.4 (9pts)\n",
    "\n",
    "Generate a boxplot of the pre-MT, with separate boxes for the experimental and control group. (2pts)\n",
    "\n",
    "*Written answer*: Which group performed faster at pre-test? (2pts)\n",
    "\n",
    "*Written answer*: Assume that the authors then used a randomization test to test for the effect of tDCS onto the post-test test performance. They found a significant group difference with p=0.01. \n",
    "Given the observed differences at pre-test, do you think you can still meaningfully interpret this p-value? That is, can the authors still reject the Null-hypothesis that tDCS has no influence on post-test performance? (5pts)"
   ]
  },
  {
   "cell_type": "code",
   "execution_count": null,
   "id": "2afd0377",
   "metadata": {},
   "outputs": [],
   "source": []
  },
  {
   "attachments": {},
   "cell_type": "markdown",
   "id": "7a231216",
   "metadata": {},
   "source": []
  },
  {
   "attachments": {},
   "cell_type": "markdown",
   "id": "0204ea53",
   "metadata": {},
   "source": [
    "### Question 1.5 (6pts)\n",
    "\n",
    "Generate a boxplot of the MT_post, with separate boxes for the experimental and control group. (2pts)\n",
    "\n",
    "**Written answer**: Was the 25th percentile of MT_post for the control group smaller or larger than 75th percentile of MT_post for the experimental group? (4pts)"
   ]
  },
  {
   "cell_type": "code",
   "execution_count": null,
   "id": "832e8fa7",
   "metadata": {},
   "outputs": [],
   "source": []
  },
  {
   "attachments": {},
   "cell_type": "markdown",
   "id": "988f3a8b",
   "metadata": {},
   "source": []
  },
  {
   "attachments": {},
   "cell_type": "markdown",
   "id": "b3c7cf22",
   "metadata": {},
   "source": [
    "## Task 2: Randomization test and experimental inference\n",
    "### Question 2.1 (8pts)\n",
    "The authors want to test the hypothesis that the application of tDCS leads to a larger *change* from the pretest MT to post-test MT, as compared to a group that receives no tDCS. \n",
    "The authors want to generalize the results to the group that the sample was drawn from (young healthy college students), independent of their exact age and their pre-test performance.  \n",
    "\n",
    "*Written answer*: Formulate the appropriate Null-hypothesis test. (3pts) \n",
    "\n",
    "Under this Null-hypothesis hypothesis, which variable is *exchangeable*? That is, which column in the data frame should you shuffle to build up a distribution under the Null hypothesis: \n",
    "\n",
    " * Age \n",
    " * MT_pre\n",
    " * MT_post\n",
    " * tDCS?\n",
    "\n",
    "Justify why your chosen answer is correct, and why all other answers are incorrect. (5pts)\n",
    "\n"
   ]
  },
  {
   "attachments": {},
   "cell_type": "markdown",
   "id": "7cf2a49e",
   "metadata": {},
   "source": [
    "H0: tDCS has not effect on the change from pretestMT to posttest MT. The difference in MT (pre-post) is the same or smaller in the experimental as compared to the control group. (3pts)\n",
    "\n",
    "Under the Null-hypothesis, tDCS (Experimental vs. Control) is exchangeable (because this was randomly assigned) and should be shuffled. Note that all other variables are not exchangeable as they were not randomly assigned.  (2pts for the right pick, 3pts for correct justification.)"
   ]
  },
  {
   "attachments": {},
   "cell_type": "markdown",
   "id": "34d098ca",
   "metadata": {},
   "source": [
    "### Question 2.2 (12pts)\n",
    "Perform a randomization test to test the hypothesis that the application of tDCS causes the post-test MT to be *lower* in the Experimental as compared to the control group.\n",
    "First, write a function that returns the mean difference in MT_post between the experimental and control group as your test statistics. \n",
    "Then use this function in a randomization test with at least 10000 iterations to build the expected  distribution of this statistics under the Null-hypothesis. \n",
    "\n",
    "*Written answer*: Report the observed mean difference, and the p-value for the case that you decided to reject the Null-hypothesis for the observed (or a more extreme) mean difference. Choose carefully between a one-sided and two-sided test. What is the correct interpretation of the p-value?    \n",
    "\n",
    "*Note*: If you are using functions from a previous homework assignment, include all the necessary code in your answer. "
   ]
  },
  {
   "cell_type": "code",
   "execution_count": null,
   "id": "a3259174",
   "metadata": {},
   "outputs": [],
   "source": []
  },
  {
   "cell_type": "code",
   "execution_count": null,
   "id": "b8332ebf",
   "metadata": {},
   "outputs": [],
   "source": []
  },
  {
   "attachments": {},
   "cell_type": "markdown",
   "id": "b0cd590b",
   "metadata": {},
   "source": []
  },
  {
   "attachments": {},
   "cell_type": "markdown",
   "id": "cc734dee",
   "metadata": {},
   "source": [
    "### Question 2.3 (10pts)\n",
    "Now let's test the Hypothesis that the application of tDCS influences (increases or decreases) the proportion of errors that people make in the post-test. \n",
    "\n",
    "*Written answer*: Formulate the corresponding Null-hypothesis. (2pts)\n",
    "\n",
    "Then write a function to return the difference in the proportion of errors between the two groups. (1pts)\n",
    "\n",
    "*Written answer*: What Difference in error rate do you observe between the groups? Which group made more errors? (1pts)\n",
    "\n",
    "Conduct conduct the appropriate randomization test to determine a p-value, if you had rejected the Null-hypothesis for the observed difference. (4pts)\n",
    "\n",
    "*Written answer*: What is your conclusion about the above Hypothesis? (2pts)"
   ]
  },
  {
   "attachments": {},
   "cell_type": "markdown",
   "id": "fbe4c10c",
   "metadata": {},
   "source": []
  },
  {
   "cell_type": "code",
   "execution_count": null,
   "id": "0b03f934",
   "metadata": {},
   "outputs": [],
   "source": []
  },
  {
   "attachments": {},
   "cell_type": "markdown",
   "id": "33a2fcd2",
   "metadata": {},
   "source": []
  },
  {
   "cell_type": "code",
   "execution_count": null,
   "id": "42fc68b5",
   "metadata": {},
   "outputs": [],
   "source": []
  },
  {
   "attachments": {},
   "cell_type": "markdown",
   "id": "57e07b5d",
   "metadata": {},
   "source": []
  },
  {
   "attachments": {},
   "cell_type": "markdown",
   "id": "07ea47e9",
   "metadata": {},
   "source": [
    "### Question 2.4 (13pts)\n",
    "Based on this result, the reviewers of the paper asked for a Bayesian test to determine how strong the evidence for the Null-hypothesis (that tDCS does not cause a difference in Error rate in the Post-test). \n",
    "\n",
    "The Null-hypothesis (H0) is that the average error rate difference is normally distributed with mean zero and standard deviation 0.02. \n",
    "\n",
    "The alternative hypothesis (H1) is undirected: \n",
    "With p=0.5, the error rate difference is normally distributed with mean 0.03 and standard deviation of 0.02\n",
    "With p=0.5, the error rate difference is normally distributed with mean -0.03 and standard deviation of 0.02. \n",
    "\n",
    "What is the Bayes Factor for H0 vs. H1? Is the evidence in favor of the the H0 or H1? How strong is that evidence (according to Kaas & Rafetery's convention)? \n",
    "\n",
    "*Hint:* If you have problems solving this for the undirected hypothesis, simply solve it for the directed hypothesis that states that the error rate difference is normally distributed with mean -0.03 (Higher error rate for Experimental than control group) and standard deviation of 0.02. You will loose 5 points, but at least you can show that you can do a Bayesian test (total worth 8pts).   "
   ]
  },
  {
   "cell_type": "code",
   "execution_count": null,
   "id": "1f827266",
   "metadata": {},
   "outputs": [],
   "source": []
  },
  {
   "attachments": {},
   "cell_type": "markdown",
   "id": "e38643be",
   "metadata": {},
   "source": []
  },
  {
   "attachments": {},
   "cell_type": "markdown",
   "id": "9b8ac07a",
   "metadata": {},
   "source": [
    "## Task 3: Bootstrap \n",
    "### Question 3.1  (13 pts)\n",
    "Clearly people differ quite a bit in their ability to produce finger sequences even before training (and before getting tDCS). \n",
    "To get a better estimate of the mean performance (the population parameter), we only have the sample of 24 participants.  \n",
    "\n",
    "Report the best estimate of the average pre-test MT in the population. (3pts) Use a bootstrap analysis (using a percentile method) to estimate a 95% confidence interval around this estimate. (4pts)\n",
    "\n",
    "*Written answer*: What is the correct interpretation of this confidence interval? What is the population for which this confidence interval is valid?   (6 pts)"
   ]
  },
  {
   "cell_type": "code",
   "execution_count": null,
   "id": "2c273602",
   "metadata": {},
   "outputs": [],
   "source": []
  },
  {
   "cell_type": "code",
   "execution_count": null,
   "id": "6c44ffca",
   "metadata": {},
   "outputs": [],
   "source": []
  },
  {
   "attachments": {},
   "cell_type": "markdown",
   "id": "ef3cd308",
   "metadata": {},
   "source": []
  },
  {
   "attachments": {},
   "cell_type": "markdown",
   "id": "06c264e5",
   "metadata": {},
   "source": [
    "### Question 3.2 (10 pts)\n",
    "Now the population parameter we are interested in is the minimal time that the best UCL undergrad student (without specific training) can perform at the pre-test. \n",
    "\n",
    "First report the minimal value in the sample. (1pts) \n",
    "\n",
    "Then use a bootstrap analysis to plot a bootstrap sample distribution for the minimal value. (2pts)  \n",
    "\n",
    "*Written answer*: Describe the shape of this distribution (2 pts)\n",
    "\n",
    "Finally use the  percentile method (as in question 3.1) to obtain a 95% confidence interval for the population parameter. (2 pts)\n",
    "\n",
    "*Written answer*: Give a reasons why this Confidence interval that you constructed is most likely incorrect. (3pts)"
   ]
  },
  {
   "cell_type": "code",
   "execution_count": null,
   "id": "19179eb4",
   "metadata": {},
   "outputs": [],
   "source": []
  },
  {
   "cell_type": "code",
   "execution_count": null,
   "id": "b7dbe617",
   "metadata": {},
   "outputs": [],
   "source": []
  },
  {
   "attachments": {},
   "cell_type": "markdown",
   "id": "ffaf662b",
   "metadata": {},
   "source": []
  },
  {
   "cell_type": "code",
   "execution_count": null,
   "id": "143b5aa9",
   "metadata": {},
   "outputs": [],
   "source": []
  },
  {
   "attachments": {},
   "cell_type": "markdown",
   "id": "edb43791",
   "metadata": {},
   "source": []
  }
 ],
 "metadata": {
  "kernelspec": {
   "display_name": "base",
   "language": "python",
   "name": "python3"
  },
  "language_info": {
   "codemirror_mode": {
    "name": "ipython",
    "version": 3
   },
   "file_extension": ".py",
   "mimetype": "text/x-python",
   "name": "python",
   "nbconvert_exporter": "python",
   "pygments_lexer": "ipython3",
   "version": "3.8.5"
  },
  "vscode": {
   "interpreter": {
    "hash": "82c9595c6ac3df5bed1366f4aa85323e4ec1b3448185f6be6e163d2b6e222f49"
   }
  }
 },
 "nbformat": 4,
 "nbformat_minor": 5
}
