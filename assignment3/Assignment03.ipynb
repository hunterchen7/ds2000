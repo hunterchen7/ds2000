{
 "cells": [
  {
   "cell_type": "markdown",
   "metadata": {
    "collapsed": true
   },
   "source": [
    "# Assignment 3: Bootstrap, confidence intervals & standard errors\n",
    "\n",
    "## Learning Outcomes:\n",
    "In this homework we will look at Estimates, Bootstrap, Confidence intervals, and Standard error.\n",
    "## Dataset \n",
    "The data set run10sample.csv contains data from random sample of 25 runner of the 16923 competitor in the 2012 Cherry blossom run (cherryblossom.org). The variables in the file are: \n",
    "\n",
    "- Place:  Finishing position. Separate positions are provided for each gender.\n",
    "- time: The total run time (in min) \n",
    "- Pace: The listed pace (/mile) for each runner.\n",
    "- Age: Age.\n",
    "- Gender: Gender.\n",
    "- Location: Hometown city. \n",
    "- State: Hometown state \n",
    "- divPlace: Age Division place, also broken up by gender.\n",
    "- divTot: Total number of people in the division (again, also split by gender).\n",
    "\n",
    "The data set run10.csv contains the data from all 16923 competitors, so you can also analyze the whole population. \n",
    "\n",
    "## Preliminaries\n",
    "Set up the environment by importing pandas, numpy, scipy, and matplotlib. "
   ]
  },
  {
   "cell_type": "code",
   "execution_count": 1,
   "metadata": {},
   "outputs": [],
   "source": [
    "import pandas as pd\n",
    "import numpy as np\n",
    "import scipy as ss\n",
    "import matplotlib.pyplot as plt\n",
    "import seaborn as sns\n",
    "import matplotlib\n",
    "\n",
    "df_sample = pd.read_csv('run10sample.csv')\n",
    "df = pd.read_csv('run10.csv')"
   ]
  },
  {
   "cell_type": "markdown",
   "metadata": {},
   "source": [
    "## Task 1: Analyzing a sample from the  population (12pt)\n",
    "In this task you will use the sample of runners that you got. \n",
    "### Question 1.1 (4pt)\n",
    "What was the mean finishing time in the random sample?"
   ]
  },
  {
   "cell_type": "code",
   "execution_count": 2,
   "metadata": {},
   "outputs": [
    {
     "data": {
      "text/plain": [
       "98.1504"
      ]
     },
     "execution_count": 2,
     "metadata": {},
     "output_type": "execute_result"
    }
   ],
   "source": [
    "df_sample['time'].mean()"
   ]
  },
  {
   "cell_type": "markdown",
   "metadata": {},
   "source": [
    "### Question 1.2 (4pt)\n",
    "What is the number of men and women in your sample (tip: use groupby and size or count)?"
   ]
  },
  {
   "cell_type": "code",
   "execution_count": 13,
   "metadata": {},
   "outputs": [
    {
     "data": {
      "text/plain": [
       "F    14\n",
       "M    11\n",
       "Name: gender, dtype: int64"
      ]
     },
     "execution_count": 13,
     "metadata": {},
     "output_type": "execute_result"
    }
   ],
   "source": [
    "df_sample['gender'].value_counts()\n"
   ]
  },
  {
   "cell_type": "markdown",
   "metadata": {},
   "source": [
    "### Question 1.3 (4pt)\n",
    "What was the mean finishing time when you split the sample up by gender (see Homework 2, task 4)? "
   ]
  },
  {
   "cell_type": "code",
   "execution_count": 14,
   "metadata": {},
   "outputs": [
    {
     "data": {
      "text/plain": [
       "gender\n",
       "F    103.496429\n",
       "M     91.346364\n",
       "Name: time, dtype: float64"
      ]
     },
     "execution_count": 14,
     "metadata": {},
     "output_type": "execute_result"
    }
   ],
   "source": [
    "df_sample.groupby('gender')['time'].mean()"
   ]
  },
  {
   "cell_type": "markdown",
   "metadata": {},
   "source": [
    "## Task 2: Resampling from the population (42 Points)\n",
    "In this task you will have access to the data from the whole population to determine how much confidence you should have in the numbers you obained in Task 1.The dataset run10.csv contain the total population of 16923 competitors in the 2012 Cherry blossom run (cherryblossom.org). Having the whole population gives us the opportunity to check how good our sample estimate is. \n",
    "\n",
    "### Question 2.1 (10pt)\n",
    "\n",
    "What is the mean finishing time in the whole population of runners? Written answer: How much does it differ from the mean finishing time of the sample analyzed in Task 1? Can this difference be explained by the fact that our sample differs from the population in terms of gender distribution? How about age? Knowing these differences, how could we have improved our estimate?"
   ]
  },
  {
   "cell_type": "code",
   "execution_count": 24,
   "metadata": {},
   "outputs": [
    {
     "name": "stdout",
     "output_type": "stream",
     "text": [
      "mean time: 94.51597470897596\n",
      "gender\n",
      "F    99.015584\n",
      "M    88.426391\n",
      "Name: time, dtype: float64\n",
      "F    9732\n",
      "M    7191\n",
      "Name: gender, dtype: int64\n",
      "count    16923.000000\n",
      "mean        35.521066\n",
      "std         10.163366\n",
      "min          9.000000\n",
      "25%         28.000000\n",
      "50%         33.000000\n",
      "75%         41.000000\n",
      "max         89.000000\n",
      "Name: age, dtype: float64\n",
      "count    25.000000\n",
      "mean     37.040000\n",
      "std       9.387403\n",
      "min      23.000000\n",
      "25%      30.000000\n",
      "50%      37.000000\n",
      "75%      42.000000\n",
      "max      55.000000\n",
      "Name: age, dtype: float64\n"
     ]
    }
   ],
   "source": [
    "print('mean time:', df['time'].mean())\n",
    "\n",
    "print(df.groupby('gender')['time'].mean())\n",
    "\n",
    "print(df['gender'].value_counts())\n",
    "\n",
    "# differes by ~4% overall, and similarly for per gender, so gender doesn't seem to be the cause of the difference, even if the random sample selects a higher ratio of F:M than the population.\n",
    "\n",
    "# if we look at the distribution of ages in both:\n",
    "print(df['age'].describe())\n",
    "print(df_sample['age'].describe())\n",
    "# we see the mean differs by 1.5 years, and the median by 1 year, so the sample is slightly younger than the population, but the 50th percentile differs by 4 years, so the sample might not be representative of the population in terms of age.\n",
    "# having a better distribution of ages in the sample might help to improve the estimate."
   ]
  },
  {
   "cell_type": "markdown",
   "metadata": {},
   "source": [
    "Written answer:"
   ]
  },
  {
   "cell_type": "markdown",
   "metadata": {},
   "source": [
    "### Question 2.2 (10pt)\n",
    "Write a function **bootstrap**, which takes a data series (data) as an input and then performs a bootstrap. The function should take numIter samples from the data (with replacement) of size N. It should then calculate the statistics defined in fcn for each iteration and record it in a numpy-array, which it should then return.\n",
    "\n",
    "Input arguments \n",
    "- data: data series to resample\n",
    "- N: Sample size for each iteration \n",
    "- fcn: function to apply to the sample to get the statistics\n",
    "- numIter: Number of resamples (should default to 1000) \n",
    "\n",
    "Output argument: \n",
    "- Numpy array of size numIter that contains the estimates of the statistic (i.e. the bootstrap sample)\n",
    "\n",
    "Hints: \n",
    "- You can use np.random.choice to draw a sample (with or without replacement) from a data series "
   ]
  },
  {
   "cell_type": "code",
   "execution_count": 52,
   "metadata": {},
   "outputs": [],
   "source": [
    "def bootstrap(data, N, fcn, numIter=1000):\n",
    "    bootstrap_samples = np.empty(numIter)\n",
    "    for i in range(numIter):\n",
    "        sample = np.random.choice(data, size=N, replace=True)\n",
    "        bootstrap_samples[i] = fcn(sample)\n",
    "    return bootstrap_samples\n"
   ]
  },
  {
   "cell_type": "markdown",
   "metadata": {},
   "source": [
    "### Question 2.3 (8pt)\n",
    "Call the resample (bootstrap) function from Question 2 with time from the whole population as the data series, mean as the statistic, and a sample size of 25. Plot a histogram of the samples – make sure your x-axis and y-axis are labeled and a caption added. Report the mean and the standard deviation of the resampled estimates. \n",
    "\n",
    "Written answer: \n",
    "Is the mean close to the mean of the population? Why? \n",
    "Is the standard deviation close to the standard deviation? Why not?"
   ]
  },
  {
   "cell_type": "code",
   "execution_count": 61,
   "metadata": {},
   "outputs": [
    {
     "name": "stdout",
     "output_type": "stream",
     "text": [
      "std of the bootstrap sample: 3.140149463155638\n",
      "std of the population: 15.921655434555316\n"
     ]
    },
    {
     "data": {
      "image/png": "[encoded data removed]",
      "text/plain": [
       "<Figure size 640x480 with 1 Axes>"
      ]
     },
     "metadata": {},
     "output_type": "display_data"
    }
   ],
   "source": [
    "bs25 = bootstrap(df['time'], 25, np.mean)\n",
    "plt.hist(bs25, bins=30)\n",
    "plt.xlabel('mean time (25 samples)')\n",
    "plt.ylabel('frequency')\n",
    "\n",
    "# the mean of the population is ~94.5 and and a similar number is reflected in the histogram.\n",
    "bs25_std = np.std(bs25)\n",
    "print('std of the bootstrap sample:', bs25_std)\n",
    "\n",
    "std = np.std(df['time'])\n",
    "print('std of the population:', std)\n",
    "\n",
    "# the standard devation differs quite greatly between the bootstrap sample and the population because the mean of 25 samples will be closer to the mean of the population than the mean of 1 sample"
   ]
  },
  {
   "cell_type": "markdown",
   "metadata": {},
   "source": [
    "Written answer: "
   ]
  },
  {
   "cell_type": "markdown",
   "metadata": {},
   "source": [
    "### Question 2.4 (8pt)\n",
    "Call your bootstrap function again as in question 3, this time increasing the sample size first to 50, and then to 100. Which of the values (mean, standard deviation) of the means distribution changes most and why? "
   ]
  },
  {
   "cell_type": "code",
   "execution_count": 109,
   "metadata": {},
   "outputs": [
    {
     "name": "stdout",
     "output_type": "stream",
     "text": [
      "50 mean: 94.570965\n",
      "50 std: 2.2509856860351207\n",
      "100 mean: 94.4385109\n",
      "100 std: 1.5892916249547129\n"
     ]
    }
   ],
   "source": [
    "bs50 = bootstrap(df['time'], 50, np.mean)\n",
    "print('50 mean:', np.mean(bs50))\n",
    "print('50 std:', np.std(bs50))\n",
    "\n",
    "bs100 = bootstrap(df['time'], 100, np.mean)\n",
    "print('100 mean:', np.mean(bs100))\n",
    "print('100 std:', np.std(bs100))\n",
    "\n",
    "# the mean remains similar but the std deviation will decrease as the number of samples increases because it will get closer to the mean of the population. \n",
    "# if we take the sample size to be the entire population then the std deviation will be close to 0"
   ]
  },
  {
   "cell_type": "markdown",
   "metadata": {},
   "source": [
    "Written answer:"
   ]
  },
  {
   "cell_type": "markdown",
   "metadata": {
    "collapsed": true
   },
   "source": [
    "### Question 2.5 (6pt)\n",
    "Calculate the predicted standard error of the mean from the population standard deviation and the same size for  N=25, N=50, and N=100. Write a line of code for each sample size that prints the answer in a full sentence. Written answer: Do these match up with the SEMs that you got from question 4? "
   ]
  },
  {
   "cell_type": "code",
   "execution_count": 114,
   "metadata": {},
   "outputs": [
    {
     "name": "stdout",
     "output_type": "stream",
     "text": [
      "The predicted standard error of the mean for N = 25 is 3.184331086911063.\n",
      "The predicted standard error of the mean for N = 50 is 2.251662105097942.\n",
      "The predicted standard error of the mean for N = 100 is 1.5921655434555315.\n"
     ]
    }
   ],
   "source": [
    "for N in [25, 50, 100]:\n",
    "    SEM = std / np.sqrt(N)\n",
    "    print(f\"The predicted standard error of the mean for N = {N} is {SEM}.\")\n"
   ]
  },
  {
   "cell_type": "markdown",
   "metadata": {},
   "source": [
    "Written answer: "
   ]
  },
  {
   "cell_type": "markdown",
   "metadata": {},
   "source": [
    "## Task 3: Calculating confidence intervals (24pt) \n",
    "### Question 3.1 (8pt)\n",
    "Write a function (confidenceInt) that constructs a confidence interval from a bootstrap sample using the percentile bootstrap method (see lecture). \t\n",
    "\n",
    "Input arguments \n",
    "- data: Sample of estimates – usually this is output from “bootstrap” (resample function from task 3 Q2)\n",
    "- prec: What Confidence interval in percent? 95= 95% confidence interval <br/>\n",
    "Output argument: \n",
    "- A list with 2 values: the lower and upper bound of the interval. \n",
    "\n",
    "Tip: Use np.percentile to get a specific percentile of the data. The lower bound of a 95% confidence interval is the (100-95)/2=2.5 percentile. "
   ]
  },
  {
   "cell_type": "code",
   "execution_count": 115,
   "metadata": {},
   "outputs": [],
   "source": [
    "def confidenceInt(data, prec=95) -> list:\n",
    "    return(np.percentile(data, [(100-prec)/2, prec+(100-prec)/2]))\n"
   ]
  },
  {
   "cell_type": "markdown",
   "metadata": {},
   "source": [
    "### Question 3.2 (8pt)\n",
    "Determine the confidence 95% interval for the mean estimate of your sample of 25. Use your bootstrap function (resample from Task 3 Q2) above to generate 1000 artificial samples of 25. Then use your confidenceInt function to get the 95% confidence interval.  Report the interval. \n"
   ]
  },
  {
   "cell_type": "code",
   "execution_count": 117,
   "metadata": {},
   "outputs": [
    {
     "data": {
      "text/plain": [
       "array([ 87.99018, 100.7142 ])"
      ]
     },
     "execution_count": 117,
     "metadata": {},
     "output_type": "execute_result"
    }
   ],
   "source": [
    "bs25 = bootstrap(df['time'], 25, np.mean)\n",
    "confidenceInt(bs25)"
   ]
  },
  {
   "cell_type": "markdown",
   "metadata": {},
   "source": [
    "### Question 3.3  (8pt)\n",
    "Repeat the plotting of the histogram from task 2.3 – but this time plot the lower and upper bound of the confidence interval as a vertical line – see plt.axvline. Make sure that the graph has x- and y-labels and a caption."
   ]
  },
  {
   "cell_type": "code",
   "execution_count": 129,
   "metadata": {},
   "outputs": [
    {
     "data": {
      "image/png": "[encoded data removed]",
      "text/plain": [
       "<Figure size 640x480 with 1 Axes>"
      ]
     },
     "metadata": {},
     "output_type": "display_data"
    }
   ],
   "source": [
    "plt.hist(bs25, bins=30)\n",
    "plt.xlabel('mean time (25 samples)')\n",
    "plt.ylabel('frequency')\n",
    "plt.axvline(confidenceInt(bs25)[0], color='red', label='Lower Bound')\n",
    "plt.axvline(confidenceInt(bs25)[1], color='green', label='Upper Bound')\n",
    "plt.legend()\n",
    "plt.title('Histogram of Bootstrap Samples with Confidence Interval')\n",
    "plt.show()\n"
   ]
  },
  {
   "cell_type": "markdown",
   "metadata": {},
   "source": []
  },
  {
   "cell_type": "markdown",
   "metadata": {},
   "source": [
    "## Task 4: Bootstraping from the sample (22pt)\n",
    "Now let's forget that you ever had the data from the whole population. Say, you only have your initial sample of 25 participants. How would you get an estimate of the confidence interval of the mean of the sample? \n",
    "### Question 4.1 (8pt)\n",
    "Load the sample stored in run10sample.csv. Now call the resample function with that time data, in each loop resampling 25 data points from 25 data points (with replacement!). You have now taken 1000 bootstrap samples. Report the mean of the bootstrap samples, the standard deviation of the the samples, and the 95% confidence interval."
   ]
  },
  {
   "cell_type": "markdown",
   "metadata": {},
   "source": []
  },
  {
   "cell_type": "code",
   "execution_count": 122,
   "metadata": {},
   "outputs": [
    {
     "name": "stdout",
     "output_type": "stream",
     "text": [
      "sample mean: 97.97536319999999\n",
      "sample std: 2.8050813038494553\n",
      "sample confidence interval: [ 92.70446 103.51245]\n"
     ]
    }
   ],
   "source": [
    "sample_bs = bootstrap(df_sample['time'], 25, np.mean)\n",
    "print('sample mean:', np.mean(sample_bs))\n",
    "print('sample std:', np.std(sample_bs))\n",
    "print('sample confidence interval:', confidenceInt(sample_bs))"
   ]
  },
  {
   "cell_type": "markdown",
   "metadata": {},
   "source": [
    "### Question 4.2 (8pt)\n",
    "Plot of the histogram of your bootstrap samples –plot the lower and upper bound of the confidence interval as a vertical line – see plt.axvline (see homework 3). Plot the true population mean (Task 2.1) as a red vertical line. Make sure that the graph has x- and y-labels. "
   ]
  },
  {
   "cell_type": "code",
   "execution_count": 133,
   "metadata": {},
   "outputs": [
    {
     "name": "stdout",
     "output_type": "stream",
     "text": [
      "confidence interval of sample: [ 92.70446 103.51245]\n",
      "population mean: 94.51597470897596\n"
     ]
    },
    {
     "data": {
      "image/png": "[encoded data removed]",
      "text/plain": [
       "<Figure size 640x480 with 1 Axes>"
      ]
     },
     "metadata": {},
     "output_type": "display_data"
    }
   ],
   "source": [
    "plt.hist(sample_bs, bins=30)\n",
    "plt.xlabel('mean time (25 samples)')\n",
    "plt.ylabel('frequency')\n",
    "plt.axvline(confidenceInt(sample_bs)[0], color='red', label='Lower Bound')\n",
    "plt.axvline(confidenceInt(sample_bs)[1], color='green', label='Upper Bound')\n",
    "plt.legend()\n",
    "plt.title('Histogram of Bootstrap Samples with Confidence Interval (Sample)')\n",
    "\n",
    "print('confidence interval of sample:', confidenceInt(sample_bs))\n",
    "print('population mean:', df['time'].mean())"
   ]
  },
  {
   "cell_type": "markdown",
   "metadata": {},
   "source": []
  },
  {
   "cell_type": "markdown",
   "metadata": {},
   "source": [
    "### Question 4.3: (6pt)\n",
    "Written answer: Does the 95% confidence interval include the true population mean? Does it include the mean value from last year’s cherry blossom run (101min)? Is there statistical evidence from your sample of N=25, that the race times have gotten faster from last year? "
   ]
  },
  {
   "cell_type": "markdown",
   "metadata": {},
   "source": [
    "Written answer:  Yes, the confidence interval is 92.7 to 103.5, so the population mean of 94.5 is included, as is the mean value of last year's cherry blossom run of 101. the race time doesn't have seem to have gotten significantly faster so it doesn't really suggest there is statistical evidence that it is the case."
   ]
  }
 ],
 "metadata": {
  "kernelspec": {
   "display_name": "Python 3 (ipykernel)",
   "language": "python",
   "name": "python3"
  },
  "language_info": {
   "codemirror_mode": {
    "name": "ipython",
    "version": 3
   },
   "file_extension": ".py",
   "mimetype": "text/x-python",
   "name": "python",
   "nbconvert_exporter": "python",
   "pygments_lexer": "ipython3",
   "version": "3.11.2"
  },
  "vscode": {
   "interpreter": {
    "hash": "1e1417e18487dc7627e5d5ffa5beac156810dded1e7bdb82ab225f30c3e5be62"
   }
  }
 },
 "nbformat": 4,
 "nbformat_minor": 2
}
