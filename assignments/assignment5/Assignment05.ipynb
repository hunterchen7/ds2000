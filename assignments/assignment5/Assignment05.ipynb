{
 "cells": [
  {
   "cell_type": "markdown",
   "metadata": {},
   "source": [
    "# Assignment 5: Randomization test 2\n",
    "## Learning Outcomes\n",
    "We will continue our last homework on the use of randomization and Monte-Carlo simulation tests to determine whether a specific effect is statistically significant. Randomization and simulation tests are universal and powerful way to do this, and form an essential part of the toolkit of any Data Scientist. \n",
    "## Problem Description\n",
    "In Task 1 & 2, we continue with the movie dataset. The first two task build on the last homework and run randomization tests with two new test statistics. You should re-use the randomization test function that you wrote for the last homework – but the new modified version needs to be included in the submission. In Task 3 you are asked to program a simple monte-Carlo simulation test.  \n",
    "## Preliminaries\n",
    "Set up the environment by importing pandas, numpy, and matplotlib. Load the movie data set into a pandas data frame. **IMPORTANT: Download and used the new movie data set that comes with this assignment on OWL**. "
   ]
  },
  {
   "cell_type": "code",
   "execution_count": 1,
   "metadata": {},
   "outputs": [],
   "source": [
    "import matplotlib\n",
    "import matplotlib.pyplot as plt \n",
    "import numpy as np\n",
    "import pandas as pd\n",
    "import scipy.stats as stats\n",
    "\n",
    "D = pd.read_csv('movieDataset.csv')"
   ]
  },
  {
   "cell_type": "markdown",
   "metadata": {},
   "source": [
    "## TASK 1: Chi-square test of independence (40pts)\n",
    "To test whether two discrete variables interact with each other, you can perform the Chi-sqaure test. The Chi-square statistic measures the deviation of the observed cell counts in a contingency table to the expected counts (see lecture).  \n",
    "### Question 1.1: Null-hypothesis (5pts)\n",
    "We want to test the hypothesis that there is a systematic relationship between director Gender and film genre. Please formulate the corresponding Null-hypothesis and Alternative hypothesis, and spell out what they predict in terms of the observed and expected cell counts."
   ]
  },
  {
   "cell_type": "markdown",
   "metadata": {},
   "source": [
    "Null-hypothesis: The null-hypothesis would suppose that there is no relation between director gender and film genre. It means that the observed frequencies of film genres directed by different genders will closely match the expected frequencies calculated under the assumption that film genre and gender are independent.\n",
    "\n",
    "Alternative hypothesis: The alternative hypothesis would suppose that there is a relation between director gender and film genre. Which means the observed frequencies of film genres directed by different genders will deviate significantly from the expected frequencies where genre and gender are independent."
   ]
  },
  {
   "cell_type": "markdown",
   "metadata": {},
   "source": [
    "### Question 1.2: Expected frequencies (10pts)\n",
    "From the table of the observed frequencies of genre / director Gender, generate a table that shows the expected frequencies if genre and gender were independent. The Marginal counts in the table should stay unchanged. "
   ]
  },
  {
   "cell_type": "code",
   "execution_count": 2,
   "metadata": {},
   "outputs": [
    {
     "data": {
      "text/html": [
       "<div>\n",
       "<style scoped>\n",
       "    .dataframe tbody tr th:only-of-type {\n",
       "        vertical-align: middle;\n",
       "    }\n",
       "\n",
       "    .dataframe tbody tr th {\n",
       "        vertical-align: top;\n",
       "    }\n",
       "\n",
       "    .dataframe thead th {\n",
       "        text-align: right;\n",
       "    }\n",
       "</style>\n",
       "<table border=\"1\" class=\"dataframe\">\n",
       "  <thead>\n",
       "    <tr style=\"text-align: right;\">\n",
       "      <th>dirGender</th>\n",
       "      <th>female</th>\n",
       "      <th>male</th>\n",
       "    </tr>\n",
       "    <tr>\n",
       "      <th>genre</th>\n",
       "      <th></th>\n",
       "      <th></th>\n",
       "    </tr>\n",
       "  </thead>\n",
       "  <tbody>\n",
       "    <tr>\n",
       "      <th>action</th>\n",
       "      <td>8.436</td>\n",
       "      <td>48.564</td>\n",
       "    </tr>\n",
       "    <tr>\n",
       "      <th>adventure</th>\n",
       "      <td>9.472</td>\n",
       "      <td>54.528</td>\n",
       "    </tr>\n",
       "    <tr>\n",
       "      <th>comedy</th>\n",
       "      <td>7.104</td>\n",
       "      <td>40.896</td>\n",
       "    </tr>\n",
       "    <tr>\n",
       "      <th>drama</th>\n",
       "      <td>5.328</td>\n",
       "      <td>30.672</td>\n",
       "    </tr>\n",
       "    <tr>\n",
       "      <th>other</th>\n",
       "      <td>6.660</td>\n",
       "      <td>38.340</td>\n",
       "    </tr>\n",
       "  </tbody>\n",
       "</table>\n",
       "</div>"
      ],
      "text/plain": [
       "dirGender  female    male\n",
       "genre                    \n",
       "action      8.436  48.564\n",
       "adventure   9.472  54.528\n",
       "comedy      7.104  40.896\n",
       "drama       5.328  30.672\n",
       "other       6.660  38.340"
      ]
     },
     "execution_count": 2,
     "metadata": {},
     "output_type": "execute_result"
    }
   ],
   "source": [
    "# Compute the observed frequencies of genre by director gender\n",
    "observed_frequencies = pd.crosstab(D['genre'], D['dirGender'])\n",
    "\n",
    "# Calculate marginal totals for genres and genders\n",
    "genre_totals = observed_frequencies.sum(axis=1)  # Row totals\n",
    "gender_totals = observed_frequencies.sum(axis=0)  # Column totals\n",
    "grand_total = D.shape[0]  # Total number of movies\n",
    "\n",
    "# Calculate expected frequencies\n",
    "expected_frequencies = observed_frequencies.copy()\n",
    "for genre in observed_frequencies.index:\n",
    "    for gender in observed_frequencies.columns:\n",
    "        expected = (genre_totals[genre] * gender_totals[gender]) / grand_total\n",
    "        expected_frequencies.at[genre, gender] = expected\n",
    "\n",
    "expected_frequencies\n"
   ]
  },
  {
   "cell_type": "markdown",
   "metadata": {},
   "source": [
    "### Question 1.3: Chi-square (10pts)\n",
    "Create a function that takes the data frame as input and calculates a statistics of the overall deviation between expected and observed frequencies: \n",
    "$χ^2 = \\sum_i(O_i-E_i)^2/E_i)$ \n",
    "\n",
    "Where $O_i$ is the observed frequency for cell $i$, $E_i$ is the expected frequency for cell $i$, assuming independence of gender and genre. The sum is to be taken over all 10 cells. This test-statistic is called the Chi-square test of independence.\n",
    "\n",
    "The function should take a data frame and return the Chi-square value. Make sure that the function performs all the required computations - it should work without you having to run the code from Question #2 first. \n",
    "\n",
    "Report the value of this statistic for the real data. \n",
    "\n",
    "Extra challenge: Make your code more flexible by not always using ``genre`` and ``dirGender`` to make the crosstab, but by providing the name of the row and column variable as an input (not required for full points).\n"
   ]
  },
  {
   "cell_type": "code",
   "execution_count": 5,
   "metadata": {},
   "outputs": [
    {
     "data": {
      "text/plain": [
       "8.552102881235573"
      ]
     },
     "execution_count": 5,
     "metadata": {},
     "output_type": "execute_result"
    }
   ],
   "source": [
    "def chi_square_test(df, row_var, col_var):\n",
    "    # compute observed frequencies\n",
    "    observed = pd.crosstab(df[row_var], df[col_var])\n",
    "    \n",
    "    # calculate marginal totals and grand total\n",
    "    row_totals = observed.sum(axis=1)\n",
    "    col_totals = observed.sum(axis=0)\n",
    "    grand_total = df.shape[0]\n",
    "    \n",
    "    # calculate expected frequencies\n",
    "    expected = observed.copy().astype(float)\n",
    "    for row in observed.index:\n",
    "        for col in observed.columns:\n",
    "            expected_val = (row_totals[row] * col_totals[col]) / grand_total\n",
    "            expected.loc[row, col] = expected_val\n",
    "    \n",
    "    # calculate the Chi-square statistic\n",
    "    chi_square = ((observed - expected) ** 2 / expected).sum().sum()\n",
    "    \n",
    "    return chi_square\n",
    "\n",
    "chi_square_value = chi_square_test(D, 'genre', 'dirGender')\n",
    "chi_square_value\n"
   ]
  },
  {
   "cell_type": "markdown",
   "metadata": {},
   "source": [
    "### Question 1.4: Randomization with flexible input arguments (5pts)\n",
    "Rewrite the randomization function from the last homework (Question 2.2), so it it becomes more versatile by adding additional input arguments that determines the behavior of the routine. \n",
    "\n",
    "- The first argument should still be a dataframe (as before)\n",
    "- The second input argument should be a function that computes the test statistics. All test-statistic functions are assumed to take the data frame as the first and only input. \n",
    "- The third input argument is the name of the dataframe column that is being shuffled. \n",
    "- An optional input argument: the number of iterations (default=500)\n",
    "- An optional input argument: the number of sides of the test (1 or 2; default = 1). If the test is two-sided, then count the number of cases where the absolute value of the test statistic (np.abolute) is larger or equal to the real test statistic.\n",
    "- An optional input argument: The number of bins for plotting the histogram \n"
   ]
  },
  {
   "cell_type": "code",
   "execution_count": 19,
   "metadata": {},
   "outputs": [],
   "source": [
    "def shuffle_col(df, col):\n",
    "    df_copy = df.copy()\n",
    "    df_copy[col] = np.random.permutation(df_copy[col])\n",
    "    return df_copy\n",
    "\n",
    "def randomization_test(df, fn, col, numIter=500, sides=1, bins=30):\n",
    "    empirical = fn(df)\n",
    "    simulated= [fn(shuffle_col(df, col)) for _ in range(numIter)]\n",
    "\n",
    "    plt.hist(simulated, bins=bins)\n",
    "    plt.axvline(empirical, color='r', linestyle='dashed', linewidth=2)\n",
    "\n",
    "    return np.mean(simulated >= empirical if sides == 1 else np.abs(simulated) >= np.abs(empirical))"
   ]
  },
  {
   "cell_type": "markdown",
   "metadata": {},
   "source": [
    "### Question 1.5: Randomization test (5pts)\n",
    "Perform a randomization test for the Chi-square test of independence. Your function should plot the histogram and report the p-value."
   ]
  },
  {
   "cell_type": "code",
   "execution_count": 20,
   "metadata": {},
   "outputs": [
    {
     "data": {
      "text/plain": [
       "0.068"
      ]
     },
     "execution_count": 20,
     "metadata": {},
     "output_type": "execute_result"
    },
    {
     "data": {
      "image/png": "[encoded data removed]",
      "text/plain": [
       "<Figure size 640x480 with 1 Axes>"
      ]
     },
     "metadata": {},
     "output_type": "display_data"
    }
   ],
   "source": [
    "def chi_sq_gender_genre(D):\n",
    "    return chi_square_test(D, 'genre', 'dirGender')\n",
    "\n",
    "randomization_test(D, chi_sq_gender_genre, 'genre')"
   ]
  },
  {
   "cell_type": "markdown",
   "metadata": {},
   "source": [
    "### Question 1.6: Conclusion (5pts)\n",
    "Written response: Based on the results, what can you conclude from this test? "
   ]
  },
  {
   "cell_type": "markdown",
   "metadata": {},
   "source": [
    "the p-value obtained is 0.068 which is greater than the 0.05 significance level, which means that there isn't sufficient evidence to reject the null hypothesis of independence between genre and gender."
   ]
  },
  {
   "cell_type": "markdown",
   "metadata": {},
   "source": [
    "# TASK 2: Randomization test for mean differences (25pts)\n",
    "In this task we will test the hypothesis that male and female directors differ in their annual income. Note that the hypothesis is undirected, meaning it could mean either that men earn more than women, or that women earn more than men."
   ]
  },
  {
   "cell_type": "markdown",
   "metadata": {},
   "source": [
    "### Question 2.1: Null hypothesis (5pts)\n",
    "Formulate the Null-hypothesis. "
   ]
  },
  {
   "cell_type": "markdown",
   "metadata": {},
   "source": [
    "the null hypothesis would be that there is no statistically significance in annual income between male and female directors, and any observed differenc would be due to random chance. "
   ]
  },
  {
   "cell_type": "markdown",
   "metadata": {},
   "source": [
    "### Question 2.2: Difference of means (8pts)\n",
    "Write a function that calculates and returns the difference in director salaries depending on the gender (male average income – female average income). Report the value. "
   ]
  },
  {
   "cell_type": "code",
   "execution_count": 18,
   "metadata": {},
   "outputs": [
    {
     "data": {
      "text/plain": [
       "0.6390446473389169"
      ]
     },
     "execution_count": 18,
     "metadata": {},
     "output_type": "execute_result"
    }
   ],
   "source": [
    "def calculate_income_difference(df):\n",
    "    male_avg_income = df[df['dirGender'] == 'male']['dirIncome'].mean()\n",
    "    female_avg_income = df[df['dirGender'] == 'female']['dirIncome'].mean()\n",
    "    return male_avg_income - female_avg_income\n",
    "\n",
    "calculate_income_difference(D)"
   ]
  },
  {
   "cell_type": "markdown",
   "metadata": {
    "collapsed": true
   },
   "source": [
    "### Question 2.3:  Randomization test (7pts)\n",
    "Use your randomization test function to perform a randomization test to determine whether the reported difference is statistical significant. Plot a histogram of the null-distribution and the real value. Report the p-value for the two-sided test. "
   ]
  },
  {
   "cell_type": "code",
   "execution_count": 32,
   "metadata": {},
   "outputs": [
    {
     "data": {
      "text/plain": [
       "0.0004"
      ]
     },
     "execution_count": 32,
     "metadata": {},
     "output_type": "execute_result"
    },
    {
     "data": {
      "image/png": "[encoded data removed]",
      "text/plain": [
       "<Figure size 640x480 with 1 Axes>"
      ]
     },
     "metadata": {},
     "output_type": "display_data"
    }
   ],
   "source": [
    "randomization_test(D, calculate_income_difference, 'dirGender', numIter=5000)"
   ]
  },
  {
   "cell_type": "markdown",
   "metadata": {},
   "source": [
    "### Question 2.4: Conclusion (5pts)\n",
    "What do you conclude about the relationship between gender and salary? What can you conclude about the claim that there is gender discrimination in the American film industry?  \n"
   ]
  },
  {
   "cell_type": "markdown",
   "metadata": {},
   "source": [
    "the p-value obtained is nearly 0, suggesting that there is a statistically significant difference between female and male directors incomes. we can conclude that the average male director is paid more than the average female director."
   ]
  },
  {
   "cell_type": "markdown",
   "metadata": {
    "collapsed": true
   },
   "source": [
    "# Task 3: Monte-Carlo simulation test (35pt)\n",
    "People providing an organ for donation sometimes seek help from a medical consultant. These consultants assist the patient in all aspects of the surgery. Patients might choose a consultant based in part on the historical complication rate of the consultant's clients. Consultant R tries to attract patients by noting the average complication rate for liver donor surgeries in the US is about 10%, but her clients have had only 3 complications in the 62 liver donor surgeries she has facilitated. She claims this is strong evidence that her work meaningfully contributes to reducing complications (and therefore she should be hired!).\n",
    "\n",
    "### Question 3.1: Monte Carlo simulation (15pts)\n",
    "Write a function (monteCarloSim) that simulates coin tossing. On each trial, the function should produce a specific number (N) of coin tosses and record the number of successes (heads). It should repeat this experiment numIter number of times. The inputs to the function should be a) probability of a success on each coin toss, b) the number of coin tosses per trial (N) and c) the number of trials. The function should return an np.array(range(numIter)) that holds the recorded number of heads for all trials (see lecture handout for tips)."
   ]
  },
  {
   "cell_type": "code",
   "execution_count": 97,
   "metadata": {},
   "outputs": [
    {
     "data": {
      "text/plain": [
       "array([ 4.,  2.,  4.,  8.,  7.,  9.,  3.,  5.,  7.,  6.,  7.,  4.,  6.,\n",
       "        3.,  5.,  6.,  2.,  2.,  4.,  7.,  7.,  6.,  8.,  4.,  3.,  5.,\n",
       "        5.,  7.,  5.,  5.,  5.,  5.,  5.,  4.,  8.,  4.,  7.,  4.,  5.,\n",
       "        3.,  4.,  4.,  7.,  6.,  6.,  5.,  4.,  3.,  6.,  5.,  4.,  6.,\n",
       "        8.,  5.,  7.,  3.,  3.,  6.,  8.,  8.,  4.,  5.,  4.,  2.,  3.,\n",
       "        6.,  4.,  7.,  5.,  6.,  6.,  6.,  5.,  4.,  4.,  3.,  6.,  5.,\n",
       "        6.,  4.,  5.,  6.,  5.,  4.,  8.,  3.,  5.,  5.,  4.,  3.,  6.,\n",
       "        5.,  4.,  7.,  4.,  4.,  4.,  6.,  5.,  6.,  4.,  6.,  7.,  5.,\n",
       "        3.,  5.,  6.,  4.,  4.,  4.,  6.,  7.,  2.,  3.,  2.,  7.,  3.,\n",
       "        5.,  5.,  5.,  6.,  4.,  4.,  5.,  3.,  5.,  2.,  7.,  5.,  6.,\n",
       "        1.,  5.,  6.,  6.,  6.,  3.,  5.,  7.,  5.,  4.,  1.,  2.,  4.,\n",
       "        5.,  6.,  5.,  2.,  4.,  3.,  4.,  7.,  3.,  4.,  6.,  2.,  4.,\n",
       "        4.,  6.,  6.,  4.,  5.,  2.,  6.,  6.,  6.,  4.,  4.,  5.,  6.,\n",
       "        4.,  4.,  5.,  3.,  5.,  5.,  2.,  6.,  6.,  4.,  5.,  1.,  4.,\n",
       "        3.,  6.,  3.,  5.,  2.,  7.,  5.,  1.,  5.,  7.,  6.,  5.,  3.,\n",
       "        6.,  2.,  8.,  1.,  4.,  6.,  7.,  3.,  6.,  7.,  5.,  8.,  5.,\n",
       "        6.,  4.,  3.,  5.,  6.,  7.,  6.,  5.,  5.,  7.,  5.,  5.,  6.,\n",
       "        5.,  4.,  5.,  6.,  4.,  4.,  5.,  7.,  4.,  5.,  2.,  5.,  5.,\n",
       "        7.,  5.,  5.,  5.,  6.,  6.,  3.,  4.,  7.,  5.,  4.,  5.,  4.,\n",
       "        4.,  4.,  6.,  4.,  5.,  5.,  7.,  6.,  6.,  4.,  7.,  4.,  3.,\n",
       "        7.,  5.,  5.,  4.,  6.,  6.,  4.,  5.,  8.,  4.,  4.,  8.,  5.,\n",
       "        5.,  5.,  5.,  4.,  3.,  5.,  4.,  5.,  3.,  5.,  4.,  2.,  7.,\n",
       "        5.,  4.,  7.,  4.,  6.,  3.,  6.,  6.,  5.,  5.,  5.,  3.,  7.,\n",
       "        5.,  5.,  6.,  6.,  5.,  7.,  7.,  8.,  2.,  6.,  4.,  5.,  5.,\n",
       "        5.,  4.,  5.,  5.,  4.,  4.,  2.,  4.,  5.,  6.,  4.,  2.,  4.,\n",
       "        6.,  5.,  7.,  6.,  5.,  6.,  5.,  6.,  7.,  4.,  9.,  4.,  4.,\n",
       "        4.,  2.,  4.,  6.,  5.,  6.,  4.,  3.,  5.,  6.,  5.,  8.,  4.,\n",
       "        6.,  6.,  3.,  4.,  4.,  8.,  4.,  3.,  7.,  6.,  6.,  4.,  5.,\n",
       "        6.,  5.,  2.,  5.,  4.,  7.,  4.,  5.,  5.,  6.,  3.,  7.,  5.,\n",
       "        6.,  2.,  7.,  6.,  4.,  5.,  5.,  6.,  4.,  7.,  5.,  6.,  4.,\n",
       "        5.,  5.,  4.,  8.,  5.,  5.,  5.,  6.,  6.,  7.,  4.,  7.,  2.,\n",
       "        6.,  6.,  5.,  5.,  4.,  3.,  5.,  3.,  6.,  7.,  7.,  7.,  4.,\n",
       "        4.,  7.,  5.,  2.,  8.,  6.,  3.,  4.,  4.,  5.,  6.,  5.,  5.,\n",
       "        6.,  5.,  5.,  5.,  6.,  5.,  5.,  3.,  7.,  5.,  5.,  6.,  5.,\n",
       "        5.,  7.,  4.,  5.,  4., 10.,  7.,  4.,  1.,  5.,  4.,  5.,  3.,\n",
       "        5.,  7.,  8.,  7.,  5.,  5.,  3.,  4.,  7.,  6.,  6.,  4.,  3.,\n",
       "        7.,  5.,  8.,  4.,  5.,  5.,  4.,  6.,  4.,  3.,  6.,  5.,  7.,\n",
       "        6.,  4.,  4.,  3.,  5.,  8.,  5.,  6.,  5.,  4.,  8.,  3.,  4.,\n",
       "        3.,  5.,  3.,  8.,  2.,  3.,  5.,  4.,  9.,  5.,  3.,  5.,  7.,\n",
       "        5.,  7.,  4.,  5.,  2.,  4.,  3.,  4.,  2.,  7.,  5.,  4.,  8.,\n",
       "        6.,  6.,  5.,  5.,  7.,  3.,  4.,  5.,  6.,  2.,  8.,  2.,  4.,\n",
       "        5.,  6.,  6.,  6.,  6.,  5.,  5.,  3.,  4.,  8.,  5.,  6.,  7.,\n",
       "        3.,  7.,  4.,  3.,  6.,  5.,  5.,  4.,  4.,  7.,  6.,  5.,  2.,\n",
       "        7.,  6.,  6.,  6.,  6.,  6.,  5.,  2.,  5.,  6.,  5.,  3.,  5.,\n",
       "        6.,  3.,  7.,  5.,  7.,  6.,  3.,  5.,  4.,  7.,  7.,  6.,  3.,\n",
       "        3.,  7.,  6.,  6.,  4.,  7.,  7.,  5.,  4.,  3.,  7.,  9.,  6.,\n",
       "        6.,  5.,  3.,  7.,  4.,  4.,  6.,  5.,  5.,  4.,  4.,  6.,  5.,\n",
       "        4.,  6.,  5.,  4.,  2.,  5.,  3.,  6.,  6.,  2.,  5.,  4.,  5.,\n",
       "        4.,  5.,  7.,  5.,  8.,  4.,  4.,  2.,  6.,  6.,  6.,  5.,  4.,\n",
       "       10.,  3.,  5.,  6.,  4.,  8.,  2.,  4.,  8.,  7.,  4.,  7.,  4.,\n",
       "        4.,  4.,  4.,  5.,  8.,  5.,  8.,  6.,  4.,  4.,  6.,  5.,  5.,\n",
       "        4.,  3.,  3.,  3.,  5.,  4.,  7.,  4.,  6.,  5.,  8.,  6.,  3.,\n",
       "        4.,  5.,  3.,  5.,  8.,  5.,  4.,  7.,  6.,  5.,  6.,  4.,  8.,\n",
       "        5.,  5.,  6.,  6.,  5.,  1.,  5.,  7.,  2.,  4.,  6.,  2.,  5.,\n",
       "        3.,  6.,  4.,  5.,  6.,  5.,  9.,  5.,  7.,  4.,  3.,  5.,  6.,\n",
       "        6.,  5.,  3.,  7.,  4.,  4.,  7.,  3.,  5.,  5.,  4.,  6.,  5.,\n",
       "        2.,  5.,  4.,  7.,  6.,  5.,  7.,  6.,  4.,  6.,  7.,  4.,  7.,\n",
       "        7.,  5.,  5.,  2.,  7.,  3.,  7.,  3.,  4.,  5.,  3.,  4.,  6.,\n",
       "        0.,  3.,  5.,  4.,  1.,  4.,  6.,  5.,  5.,  4.,  5.,  4.,  7.,\n",
       "        9.,  7.,  3.,  7.,  4.,  3.,  4.,  5.,  2.,  9.,  3.,  8.,  3.,\n",
       "        5.,  4.,  5.,  4.,  6.,  2.,  4.,  5.,  6.,  6.,  4.,  7.,  3.,\n",
       "        5.,  2.,  6.,  2.,  5.,  8.,  6.,  5.,  8.,  7.,  3.,  7.,  8.,\n",
       "        6.,  8.,  2.,  7.,  6.,  6.,  8.,  6.,  6.,  6.,  6.,  4.,  5.,\n",
       "        6.,  5.,  5.,  5.,  3.,  5.,  7.,  4.,  3.,  5.,  4.,  5.,  5.,\n",
       "        6.,  4.,  3.,  4.,  7.,  5.,  3.,  3.,  5.,  3.,  7.,  4.,  4.,\n",
       "        6.,  5.,  5.,  3.,  4.,  5.,  5.,  7.,  6.,  2.,  4.,  5.,  2.,\n",
       "        3.,  8.,  3.,  6.,  7.,  2.,  6.,  6.,  5.,  6.,  7.,  4.,  4.,\n",
       "        5.,  4.,  3.,  4.,  4.,  7.,  6.,  5.,  7.,  2.,  6.,  2.,  3.,\n",
       "        3.,  4.,  6.,  6.,  5.,  3.,  2.,  6.,  7.,  2.,  7.,  3.,  4.,\n",
       "        5.,  6.,  6.,  3.,  3.,  4.,  3.,  6.,  5.,  3.,  6.,  6.,  2.,\n",
       "        7.,  5.,  6.,  8.,  5.,  5.,  7.,  5.,  6.,  5.,  2.,  4.,  4.,\n",
       "        6.,  4.,  6.,  8.,  5.,  4.,  5.,  7.,  6.,  7.,  8.,  4.,  7.,\n",
       "        4.,  3.,  4.,  6.,  7.,  4.,  3.,  6.,  7.,  8.,  3.,  5.,  6.,\n",
       "        4.,  5.,  6.,  5.,  6.,  5.,  4.,  3.,  6.,  5.,  6.,  6.,  4.,\n",
       "        4.,  8.,  6.,  7.,  5.,  5.,  6.,  5.,  5.,  5.,  4.,  6.,  5.,\n",
       "        5.,  5.,  2.,  6.,  4.,  2.,  7.,  6.,  6.,  6.,  5.,  5.,  3.,\n",
       "        5.,  3.,  5.,  9.,  3.,  7.,  4.,  4.,  4.,  9.,  4.,  6.])"
      ]
     },
     "execution_count": 97,
     "metadata": {},
     "output_type": "execute_result"
    }
   ],
   "source": [
    "def monteCarloSim(prob_success, N, numIter=100):\n",
    "    results = np.zeros(numIter)\n",
    "    \n",
    "    # Simulate each trial\n",
    "    for i in range(numIter):\n",
    "        results[i] = np.sum([x < prob_success for x in np.random.rand(1, N)])\n",
    "    \n",
    "    return results\n",
    "\n",
    "monteCarloSim(0.5, 10, 1000)\n"
   ]
  },
  {
   "cell_type": "markdown",
   "metadata": {},
   "source": [
    "### Question 3.2: Monte Carlo Test (15pts)\n",
    "Write a function (monteCarloTest) that uses monteCarloSim (Question 1) to simulate 2000 trials of a N coin tosses. \n",
    "The function should take as input arguments: \n",
    "\n",
    "* `H0prob`: The probability of heads under the Null hypothesis\n",
    "* `N`: The number of coin throws per trial \n",
    "* `numHeads`: The number of observed coin tosses.  \n",
    "\n",
    "After getting the simulation result from `monteCarloSim`, the function should plot a histogram of the recorded number of heads, and mark the real measured number (`numHeads`) with a vertical line. The function should print out the probability that the simulated number of heads is smaller than or equal to the measured number of heads.  \n",
    "\n",
    "Use the function to evaluate the medical advisor example from the lecture: Determine the probability to get 3 complications in 62 cases if the probability of a complication in the population is known to be 10%. "
   ]
  },
  {
   "cell_type": "code",
   "execution_count": 111,
   "metadata": {},
   "outputs": [
    {
     "data": {
      "text/plain": [
       "0.961"
      ]
     },
     "execution_count": 111,
     "metadata": {},
     "output_type": "execute_result"
    },
    {
     "data": {
      "image/png": "[encoded data removed]",
      "text/plain": [
       "<Figure size 640x480 with 1 Axes>"
      ]
     },
     "metadata": {},
     "output_type": "display_data"
    }
   ],
   "source": [
    "def monteCarloTest(H0prob, N, numHeads):\n",
    "    sim_res = monteCarloSim(H0prob, N, 2000)\n",
    "\n",
    "    plt.hist(sim_res, bins=len(set(sim_res)))\n",
    "    plt.axvline(numHeads, color='r', linestyle='dashed', linewidth=2)\n",
    "\n",
    "    return np.mean(sim_res >= numHeads)\n",
    "\n",
    "monteCarloTest(0.1, 62, 3)\n"
   ]
  },
  {
   "cell_type": "markdown",
   "metadata": {},
   "source": [
    "### Question 3.3: Conclusion (5pts)\n",
    "Written answer: What do you conclude about the claim that the work of advisor R is lowering complication rates?"
   ]
  },
  {
   "cell_type": "markdown",
   "metadata": {},
   "source": [
    "I don't know who advisor R is, but just knowing that 3 complications occured in 62 cases gives us a p-value of 0.961, which means the complication rates is not lower in terms of statistical significance."
   ]
  }
 ],
 "metadata": {
  "kernelspec": {
   "display_name": "Python 3 (ipykernel)",
   "language": "python",
   "name": "python3"
  },
  "language_info": {
   "codemirror_mode": {
    "name": "ipython",
    "version": 3
   },
   "file_extension": ".py",
   "mimetype": "text/x-python",
   "name": "python",
   "nbconvert_exporter": "python",
   "pygments_lexer": "ipython3",
   "version": "3.11.2"
  },
  "vscode": {
   "interpreter": {
    "hash": "82c9595c6ac3df5bed1366f4aa85323e4ec1b3448185f6be6e163d2b6e222f49"
   }
  }
 },
 "nbformat": 4,
 "nbformat_minor": 1
}
